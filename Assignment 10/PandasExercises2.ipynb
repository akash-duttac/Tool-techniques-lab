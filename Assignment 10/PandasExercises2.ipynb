{
 "cells": [
  {
   "cell_type": "markdown",
   "metadata": {},
   "source": [
    "# Assignment 10 | Pandas Exercises 2"
   ]
  },
  {
   "cell_type": "markdown",
   "metadata": {},
   "source": [
    "### Akash Duttachowdhury\n",
    "### 21052386"
   ]
  },
  {
   "cell_type": "markdown",
   "metadata": {},
   "source": [
    "**TASK: Import pandas**"
   ]
  },
  {
   "cell_type": "code",
   "execution_count": 1,
   "metadata": {
    "collapsed": true
   },
   "outputs": [],
   "source": [
    "# CODE HERE\n",
    "import pandas as pd"
   ]
  },
  {
   "cell_type": "markdown",
   "metadata": {},
   "source": [
    "**TASK:  Read the bank.csv file**"
   ]
  },
  {
   "cell_type": "code",
   "execution_count": 2,
   "metadata": {
    "collapsed": true
   },
   "outputs": [],
   "source": [
    "# CODE HERE\n",
    "df = pd.read_csv('bank.csv')"
   ]
  },
  {
   "cell_type": "markdown",
   "metadata": {},
   "source": [
    "**TASK: Display the first 5 rows of the data set**"
   ]
  },
  {
   "cell_type": "code",
   "execution_count": 3,
   "metadata": {
    "collapsed": true
   },
   "outputs": [
    {
     "data": {
      "text/html": [
       "<div>\n",
       "<style scoped>\n",
       "    .dataframe tbody tr th:only-of-type {\n",
       "        vertical-align: middle;\n",
       "    }\n",
       "\n",
       "    .dataframe tbody tr th {\n",
       "        vertical-align: top;\n",
       "    }\n",
       "\n",
       "    .dataframe thead th {\n",
       "        text-align: right;\n",
       "    }\n",
       "</style>\n",
       "<table border=\"1\" class=\"dataframe\">\n",
       "  <thead>\n",
       "    <tr style=\"text-align: right;\">\n",
       "      <th></th>\n",
       "      <th>age</th>\n",
       "      <th>job</th>\n",
       "      <th>marital</th>\n",
       "      <th>education</th>\n",
       "      <th>default</th>\n",
       "      <th>balance</th>\n",
       "      <th>housing</th>\n",
       "      <th>loan</th>\n",
       "      <th>contact</th>\n",
       "      <th>day</th>\n",
       "      <th>month</th>\n",
       "      <th>duration</th>\n",
       "      <th>campaign</th>\n",
       "      <th>pdays</th>\n",
       "      <th>previous</th>\n",
       "      <th>poutcome</th>\n",
       "      <th>y</th>\n",
       "    </tr>\n",
       "  </thead>\n",
       "  <tbody>\n",
       "    <tr>\n",
       "      <th>0</th>\n",
       "      <td>30</td>\n",
       "      <td>unemployed</td>\n",
       "      <td>married</td>\n",
       "      <td>primary</td>\n",
       "      <td>no</td>\n",
       "      <td>1787</td>\n",
       "      <td>no</td>\n",
       "      <td>no</td>\n",
       "      <td>cellular</td>\n",
       "      <td>19</td>\n",
       "      <td>oct</td>\n",
       "      <td>79</td>\n",
       "      <td>1</td>\n",
       "      <td>-1</td>\n",
       "      <td>0</td>\n",
       "      <td>unknown</td>\n",
       "      <td>no</td>\n",
       "    </tr>\n",
       "    <tr>\n",
       "      <th>1</th>\n",
       "      <td>33</td>\n",
       "      <td>services</td>\n",
       "      <td>married</td>\n",
       "      <td>secondary</td>\n",
       "      <td>no</td>\n",
       "      <td>4789</td>\n",
       "      <td>yes</td>\n",
       "      <td>yes</td>\n",
       "      <td>cellular</td>\n",
       "      <td>11</td>\n",
       "      <td>may</td>\n",
       "      <td>220</td>\n",
       "      <td>1</td>\n",
       "      <td>339</td>\n",
       "      <td>4</td>\n",
       "      <td>failure</td>\n",
       "      <td>no</td>\n",
       "    </tr>\n",
       "    <tr>\n",
       "      <th>2</th>\n",
       "      <td>35</td>\n",
       "      <td>management</td>\n",
       "      <td>single</td>\n",
       "      <td>tertiary</td>\n",
       "      <td>no</td>\n",
       "      <td>1350</td>\n",
       "      <td>yes</td>\n",
       "      <td>no</td>\n",
       "      <td>cellular</td>\n",
       "      <td>16</td>\n",
       "      <td>apr</td>\n",
       "      <td>185</td>\n",
       "      <td>1</td>\n",
       "      <td>330</td>\n",
       "      <td>1</td>\n",
       "      <td>failure</td>\n",
       "      <td>no</td>\n",
       "    </tr>\n",
       "    <tr>\n",
       "      <th>3</th>\n",
       "      <td>30</td>\n",
       "      <td>management</td>\n",
       "      <td>married</td>\n",
       "      <td>tertiary</td>\n",
       "      <td>no</td>\n",
       "      <td>1476</td>\n",
       "      <td>yes</td>\n",
       "      <td>yes</td>\n",
       "      <td>unknown</td>\n",
       "      <td>3</td>\n",
       "      <td>jun</td>\n",
       "      <td>199</td>\n",
       "      <td>4</td>\n",
       "      <td>-1</td>\n",
       "      <td>0</td>\n",
       "      <td>unknown</td>\n",
       "      <td>no</td>\n",
       "    </tr>\n",
       "    <tr>\n",
       "      <th>4</th>\n",
       "      <td>59</td>\n",
       "      <td>blue-collar</td>\n",
       "      <td>married</td>\n",
       "      <td>secondary</td>\n",
       "      <td>no</td>\n",
       "      <td>0</td>\n",
       "      <td>yes</td>\n",
       "      <td>no</td>\n",
       "      <td>unknown</td>\n",
       "      <td>5</td>\n",
       "      <td>may</td>\n",
       "      <td>226</td>\n",
       "      <td>1</td>\n",
       "      <td>-1</td>\n",
       "      <td>0</td>\n",
       "      <td>unknown</td>\n",
       "      <td>no</td>\n",
       "    </tr>\n",
       "  </tbody>\n",
       "</table>\n",
       "</div>"
      ],
      "text/plain": [
       "   age          job  marital  education default  balance housing loan  \\\n",
       "0   30   unemployed  married    primary      no     1787      no   no   \n",
       "1   33     services  married  secondary      no     4789     yes  yes   \n",
       "2   35   management   single   tertiary      no     1350     yes   no   \n",
       "3   30   management  married   tertiary      no     1476     yes  yes   \n",
       "4   59  blue-collar  married  secondary      no        0     yes   no   \n",
       "\n",
       "    contact  day month  duration  campaign  pdays  previous poutcome   y  \n",
       "0  cellular   19   oct        79         1     -1         0  unknown  no  \n",
       "1  cellular   11   may       220         1    339         4  failure  no  \n",
       "2  cellular   16   apr       185         1    330         1  failure  no  \n",
       "3   unknown    3   jun       199         4     -1         0  unknown  no  \n",
       "4   unknown    5   may       226         1     -1         0  unknown  no  "
      ]
     },
     "execution_count": 3,
     "metadata": {},
     "output_type": "execute_result"
    }
   ],
   "source": [
    "# CODE HERE\n",
    "df.head(5)"
   ]
  },
  {
   "cell_type": "markdown",
   "metadata": {},
   "source": [
    "**TASK: What is the average (mean) age of the people in the dataset?**"
   ]
  },
  {
   "cell_type": "code",
   "execution_count": 11,
   "metadata": {
    "collapsed": true
   },
   "outputs": [
    {
     "name": "stdout",
     "output_type": "stream",
     "text": [
      "<class 'pandas.core.frame.DataFrame'>\n",
      "RangeIndex: 4521 entries, 0 to 4520\n",
      "Data columns (total 17 columns):\n",
      " #   Column     Non-Null Count  Dtype \n",
      "---  ------     --------------  ----- \n",
      " 0   age        4521 non-null   int64 \n",
      " 1   job        4521 non-null   object\n",
      " 2   marital    4521 non-null   object\n",
      " 3   education  4521 non-null   object\n",
      " 4   default    4521 non-null   object\n",
      " 5   balance    4521 non-null   int64 \n",
      " 6   housing    4521 non-null   object\n",
      " 7   loan       4521 non-null   object\n",
      " 8   contact    4521 non-null   object\n",
      " 9   day        4521 non-null   int64 \n",
      " 10  month      4521 non-null   object\n",
      " 11  duration   4521 non-null   int64 \n",
      " 12  campaign   4521 non-null   int64 \n",
      " 13  pdays      4521 non-null   int64 \n",
      " 14  previous   4521 non-null   int64 \n",
      " 15  poutcome   4521 non-null   object\n",
      " 16  y          4521 non-null   object\n",
      "dtypes: int64(7), object(10)\n",
      "memory usage: 600.6+ KB\n"
     ]
    }
   ],
   "source": [
    "# CODE HERE\n",
    "df.info()"
   ]
  },
  {
   "cell_type": "code",
   "execution_count": 8,
   "metadata": {},
   "outputs": [
    {
     "data": {
      "text/plain": [
       "41.17009511170095"
      ]
     },
     "execution_count": 8,
     "metadata": {},
     "output_type": "execute_result"
    }
   ],
   "source": [
    "df['age'].mean()"
   ]
  },
  {
   "cell_type": "markdown",
   "metadata": {},
   "source": [
    "**TASK: What is the marital status of the youngest person in the dataset?**\n",
    "\n",
    "[HINT](https://pandas.pydata.org/pandas-docs/stable/reference/api/pandas.DataFrame.idxmin.html)"
   ]
  },
  {
   "cell_type": "code",
   "execution_count": 12,
   "metadata": {
    "collapsed": true
   },
   "outputs": [
    {
     "name": "stdout",
     "output_type": "stream",
     "text": [
      "The marital status of the youngest person is: single\n"
     ]
    }
   ],
   "source": [
    "# CODE HERE\n",
    "# Find the index of the youngest person\n",
    "youngest_index = df['age'].idxmin()\n",
    "\n",
    "# Get the marital status of the youngest person\n",
    "youngest_marital_status = df.loc[youngest_index, 'marital']\n",
    "\n",
    "print(f\"The marital status of the youngest person is: {youngest_marital_status}\")"
   ]
  },
  {
   "cell_type": "markdown",
   "metadata": {},
   "source": [
    "**TASK: How many unique job categories are there?**"
   ]
  },
  {
   "cell_type": "code",
   "execution_count": 13,
   "metadata": {
    "collapsed": true
   },
   "outputs": [
    {
     "name": "stdout",
     "output_type": "stream",
     "text": [
      "There are 12 unique job categories in the dataset.\n"
     ]
    }
   ],
   "source": [
    "# CODE HERE\n",
    "# Count the number of unique job categories\n",
    "unique_job_categories_count = df['job'].nunique()\n",
    "\n",
    "print(f\"There are {unique_job_categories_count} unique job categories in the dataset.\")"
   ]
  },
  {
   "cell_type": "markdown",
   "metadata": {},
   "source": [
    "**TASK: How many people are there per job category? (Take a peek at the expected output)**"
   ]
  },
  {
   "cell_type": "code",
   "execution_count": 14,
   "metadata": {
    "collapsed": true
   },
   "outputs": [
    {
     "name": "stdout",
     "output_type": "stream",
     "text": [
      "Number of people per job category:\n",
      "job\n",
      "admin.           478\n",
      "blue-collar      946\n",
      "entrepreneur     168\n",
      "housemaid        112\n",
      "management       969\n",
      "retired          230\n",
      "self-employed    183\n",
      "services         417\n",
      "student           84\n",
      "technician       768\n",
      "unemployed       128\n",
      "unknown           38\n",
      "Name: job, dtype: int64\n"
     ]
    }
   ],
   "source": [
    "# CODE HERE\n",
    "# Group the data by job category and count the number of people in each category\n",
    "people_per_job = df.groupby('job')['job'].count()\n",
    "\n",
    "print(\"Number of people per job category:\")\n",
    "print(people_per_job)"
   ]
  },
  {
   "cell_type": "markdown",
   "metadata": {},
   "source": [
    "**TASK: What percent of people in the dataset were married?**"
   ]
  },
  {
   "cell_type": "code",
   "execution_count": 15,
   "metadata": {
    "collapsed": true
   },
   "outputs": [
    {
     "name": "stdout",
     "output_type": "stream",
     "text": [
      "The percentage of people in the dataset who were married: 61.87%\n"
     ]
    }
   ],
   "source": [
    "#CODE HERE\n",
    "# Count the number of people who were married\n",
    "married_count = df[df['marital'] == 'married'].shape[0]\n",
    "\n",
    "# Calculate the total number of people in the dataset\n",
    "total_people = df.shape[0]\n",
    "\n",
    "# Calculate the percentage of people who were married\n",
    "married_percentage = (married_count / total_people) * 100\n",
    "\n",
    "print(f\"The percentage of people in the dataset who were married: {married_percentage:.2f}%\")"
   ]
  },
  {
   "cell_type": "markdown",
   "metadata": {},
   "source": [
    "**TASK: There is a column labeled \"default\". Use pandas' .map() method to create a new column called \"default code\" which contains a 0 if there was no default, or a 1 if there was a default. Then show the head of the dataframe with this new column.**\n",
    "\n",
    "[Helpful Hint Link One](https://pandas.pydata.org/pandas-docs/stable/reference/api/pandas.Series.map.html)\n",
    "\n",
    "[Helpful Hint Link Two](https://stackoverflow.com/questions/19798153/difference-between-map-applymap-and-apply-methods-in-pandas)"
   ]
  },
  {
   "cell_type": "code",
   "execution_count": 17,
   "metadata": {
    "collapsed": true
   },
   "outputs": [
    {
     "name": "stdout",
     "output_type": "stream",
     "text": [
      "   age          job  marital  education default  balance housing loan  \\\n",
      "0   30   unemployed  married    primary      no     1787      no   no   \n",
      "1   33     services  married  secondary      no     4789     yes  yes   \n",
      "2   35   management   single   tertiary      no     1350     yes   no   \n",
      "3   30   management  married   tertiary      no     1476     yes  yes   \n",
      "4   59  blue-collar  married  secondary      no        0     yes   no   \n",
      "\n",
      "    contact  day month  duration  campaign  pdays  previous poutcome   y  \\\n",
      "0  cellular   19   oct        79         1     -1         0  unknown  no   \n",
      "1  cellular   11   may       220         1    339         4  failure  no   \n",
      "2  cellular   16   apr       185         1    330         1  failure  no   \n",
      "3   unknown    3   jun       199         4     -1         0  unknown  no   \n",
      "4   unknown    5   may       226         1     -1         0  unknown  no   \n",
      "\n",
      "   default code  \n",
      "0             0  \n",
      "1             0  \n",
      "2             0  \n",
      "3             0  \n",
      "4             0  \n"
     ]
    }
   ],
   "source": [
    "# CODE HERE\n",
    "# Create a mapping dictionary for default values\n",
    "default_mapping = {'no': 0, 'yes': 1}\n",
    "\n",
    "# Create the new column 'default code' using .map() method\n",
    "df['default code'] = df['default'].map(default_mapping)\n",
    "\n",
    "# Show the head of the dataframe with the new column\n",
    "print(df.head())"
   ]
  },
  {
   "cell_type": "markdown",
   "metadata": {},
   "source": [
    "**TASK: Using pandas .apply() method, create a new column called \"marital code\". This column will only contained a shortened code of the possible marital status first letter. (For example \"m\" for \"married\" , \"s\" for \"single\" etc... See if you can do this with a lambda expression. Lots of ways to do this one!**\n",
    "\n",
    "[Hint Link](https://pandas.pydata.org/pandas-docs/stable/reference/api/pandas.DataFrame.apply.html)\n"
   ]
  },
  {
   "cell_type": "code",
   "execution_count": 18,
   "metadata": {
    "collapsed": true
   },
   "outputs": [
    {
     "name": "stdout",
     "output_type": "stream",
     "text": [
      "<bound method NDFrame.head of       age            job  marital  education default  balance housing loan  \\\n",
      "0      30     unemployed  married    primary      no     1787      no   no   \n",
      "1      33       services  married  secondary      no     4789     yes  yes   \n",
      "2      35     management   single   tertiary      no     1350     yes   no   \n",
      "3      30     management  married   tertiary      no     1476     yes  yes   \n",
      "4      59    blue-collar  married  secondary      no        0     yes   no   \n",
      "...   ...            ...      ...        ...     ...      ...     ...  ...   \n",
      "4516   33       services  married  secondary      no     -333     yes   no   \n",
      "4517   57  self-employed  married   tertiary     yes    -3313     yes  yes   \n",
      "4518   57     technician  married  secondary      no      295      no   no   \n",
      "4519   28    blue-collar  married  secondary      no     1137      no   no   \n",
      "4520   44   entrepreneur   single   tertiary      no     1136     yes  yes   \n",
      "\n",
      "       contact  day month  duration  campaign  pdays  previous poutcome   y  \\\n",
      "0     cellular   19   oct        79         1     -1         0  unknown  no   \n",
      "1     cellular   11   may       220         1    339         4  failure  no   \n",
      "2     cellular   16   apr       185         1    330         1  failure  no   \n",
      "3      unknown    3   jun       199         4     -1         0  unknown  no   \n",
      "4      unknown    5   may       226         1     -1         0  unknown  no   \n",
      "...        ...  ...   ...       ...       ...    ...       ...      ...  ..   \n",
      "4516  cellular   30   jul       329         5     -1         0  unknown  no   \n",
      "4517   unknown    9   may       153         1     -1         0  unknown  no   \n",
      "4518  cellular   19   aug       151        11     -1         0  unknown  no   \n",
      "4519  cellular    6   feb       129         4    211         3    other  no   \n",
      "4520  cellular    3   apr       345         2    249         7    other  no   \n",
      "\n",
      "      default code marital code  \n",
      "0                0            m  \n",
      "1                0            m  \n",
      "2                0            s  \n",
      "3                0            m  \n",
      "4                0            m  \n",
      "...            ...          ...  \n",
      "4516             0            m  \n",
      "4517             1            m  \n",
      "4518             0            m  \n",
      "4519             0            m  \n",
      "4520             0            s  \n",
      "\n",
      "[4521 rows x 19 columns]>\n"
     ]
    }
   ],
   "source": [
    "# CODE HERE\n",
    "# Create a new column 'marital code' using .apply() method and lambda function\n",
    "df['marital code'] = df['marital'].apply(lambda x: x[0].lower())\n",
    "\n",
    "# Show the head of the dataframe with the new column\n",
    "print(df.head)"
   ]
  },
  {
   "cell_type": "markdown",
   "metadata": {},
   "source": [
    "**TASK: What was the longest lasting duration?**"
   ]
  },
  {
   "cell_type": "code",
   "execution_count": 19,
   "metadata": {
    "collapsed": true
   },
   "outputs": [
    {
     "name": "stdout",
     "output_type": "stream",
     "text": [
      "The longest lasting duration in the dataset was: 3025 seconds\n"
     ]
    }
   ],
   "source": [
    "# CODE HERE\n",
    "# Find the longest lasting duration\n",
    "longest_duration = df['duration'].max()\n",
    "\n",
    "print(f\"The longest lasting duration in the dataset was: {longest_duration} seconds\")"
   ]
  },
  {
   "cell_type": "markdown",
   "metadata": {},
   "source": [
    "**TASK: What is the most common education level for people who are unemployed?**"
   ]
  },
  {
   "cell_type": "code",
   "execution_count": 20,
   "metadata": {
    "collapsed": true
   },
   "outputs": [
    {
     "name": "stdout",
     "output_type": "stream",
     "text": [
      "The most common education level for unemployed individuals is: secondary\n"
     ]
    }
   ],
   "source": [
    "# CODE HERE\n",
    "# Filter data for unemployed individuals\n",
    "unemployed_data = df[df['job'] == 'unemployed']\n",
    "\n",
    "# Find the most common education level among unemployed individuals\n",
    "common_education_unemployed = unemployed_data['education'].mode()[0]\n",
    "\n",
    "print(f\"The most common education level for unemployed individuals is: {common_education_unemployed}\")"
   ]
  },
  {
   "cell_type": "markdown",
   "metadata": {},
   "source": [
    "**TASK: What is the average (mean) age for being unemployed?**"
   ]
  },
  {
   "cell_type": "code",
   "execution_count": 21,
   "metadata": {
    "collapsed": true
   },
   "outputs": [
    {
     "name": "stdout",
     "output_type": "stream",
     "text": [
      "The average age for unemployed individuals is: 40.91 years\n"
     ]
    }
   ],
   "source": [
    "# CODE HERE\n",
    "# Filter data for unemployed individuals\n",
    "unemployed_data = df[df['job'] == 'unemployed']\n",
    "\n",
    "# Calculate the average age for unemployed individuals\n",
    "average_age_unemployed = unemployed_data['age'].mean()\n",
    "\n",
    "print(f\"The average age for unemployed individuals is: {average_age_unemployed:.2f} years\")"
   ]
  }
 ],
 "metadata": {
  "kernelspec": {
   "display_name": "Python 3 (ipykernel)",
   "language": "python",
   "name": "python3"
  },
  "language_info": {
   "codemirror_mode": {
    "name": "ipython",
    "version": 3
   },
   "file_extension": ".py",
   "mimetype": "text/x-python",
   "name": "python",
   "nbconvert_exporter": "python",
   "pygments_lexer": "ipython3",
   "version": "3.11.7"
  }
 },
 "nbformat": 4,
 "nbformat_minor": 2
}
