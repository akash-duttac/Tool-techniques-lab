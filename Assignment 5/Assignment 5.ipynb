{
 "cells": [
  {
   "cell_type": "markdown",
   "metadata": {},
   "source": [
    "<h1>Assignment 5</h1>\n",
    "<h3>Akash Duttachowdhury<br>21052386</h3>"
   ]
  },
  {
   "cell_type": "markdown",
   "metadata": {},
   "source": [
    "1. Write a program to find the sum of all elements of a list."
   ]
  },
  {
   "cell_type": "code",
   "execution_count": 1,
   "metadata": {},
   "outputs": [
    {
     "name": "stdout",
     "output_type": "stream",
     "text": [
      "The entered list is [1, 2, 3, 4, 5]\n",
      "Sum of the elements in list is: 15\n"
     ]
    }
   ],
   "source": [
    "# Akash Duttachowdhury | 21052386\n",
    "n = int(input(\"Enter the size of list: \"))\n",
    "lst = []\n",
    "for i in range(n):\n",
    "    lst.append(int(input(\"Enter element: \")))\n",
    "print(f\"The entered list is {lst}\")\n",
    "print(f\"Sum of the elements in list is: {sum(lst)}\")"
   ]
  },
  {
   "cell_type": "markdown",
   "metadata": {},
   "source": [
    "2. Write a program to find the maximum and minimum element of a list."
   ]
  },
  {
   "cell_type": "code",
   "execution_count": 2,
   "metadata": {},
   "outputs": [
    {
     "name": "stdout",
     "output_type": "stream",
     "text": [
      "The entered list is [5, 12, 34, 6, 2]\n",
      "Maximum element is 34\n",
      "Minimum element is 2\n"
     ]
    }
   ],
   "source": [
    "# Akash Duttachowdhury | 21052386\n",
    "n = int(input(\"Enter the size of list: \"))\n",
    "lst = []\n",
    "for i in range(n):\n",
    "    lst.append(int(input(\"Enter element: \")))\n",
    "print(f\"The entered list is {lst}\")\n",
    "print(f\"Maximum element is {max(lst)}\")\n",
    "print(f\"Minimum element is {min(lst)}\")"
   ]
  },
  {
   "cell_type": "markdown",
   "metadata": {},
   "source": [
    "3. Write a program to find the position of maximum and minimum element’s position in a\n",
    "list."
   ]
  },
  {
   "cell_type": "code",
   "execution_count": 3,
   "metadata": {},
   "outputs": [
    {
     "name": "stdout",
     "output_type": "stream",
     "text": [
      "The entered list is [7, 1, 0, 3, 19]\n",
      "Maximum element is 19, at index 4\n",
      "Minimum element is 0, at index 2\n"
     ]
    }
   ],
   "source": [
    "# Akash Duttachowdhury | 21052386\n",
    "n = int(input(\"Enter the size of list: \"))\n",
    "lst = []\n",
    "for i in range(n):\n",
    "    lst.append(int(input(\"Enter element: \")))\n",
    "print(f\"The entered list is {lst}\")\n",
    "print(f\"Maximum element is {max(lst)}, at index {lst.index(max(lst))}\")\n",
    "print(f\"Minimum element is {min(lst)}, at index {lst.index(min(lst))}\")"
   ]
  },
  {
   "cell_type": "markdown",
   "metadata": {},
   "source": [
    "4. Write a program to print all the element in a list that are greater than a given value."
   ]
  },
  {
   "cell_type": "code",
   "execution_count": 4,
   "metadata": {},
   "outputs": [
    {
     "name": "stdout",
     "output_type": "stream",
     "text": [
      "The entered list is [1, 2, 3, 4, 5]\n",
      "The no.s greater than 2 are: [3, 4, 5]\n"
     ]
    }
   ],
   "source": [
    "# Akash Duttachowdhury | 21052386\n",
    "n = int(input(\"Enter the size of list: \"))\n",
    "lst = []\n",
    "for i in range(n):\n",
    "    lst.append(int(input(\"Enter element: \")))\n",
    "print(f\"The entered list is {lst}\")\n",
    "limit = int(input(\"Value for larger list elements: \"))\n",
    "greater=[]\n",
    "for num in lst:\n",
    "    if num>limit:\n",
    "        greater.append(num)\n",
    "print(f\"The no.s greater than {limit} are: {greater}\")"
   ]
  },
  {
   "cell_type": "markdown",
   "metadata": {},
   "source": [
    "5. Write a program to print all the common elements of 2 list."
   ]
  },
  {
   "cell_type": "code",
   "execution_count": 5,
   "metadata": {},
   "outputs": [
    {
     "name": "stdout",
     "output_type": "stream",
     "text": [
      "The common elements of the lists are: [1]\n"
     ]
    }
   ],
   "source": [
    "# Akash Duttachowdhury | 21052386\n",
    "def create_list(size):\n",
    "    newList = []\n",
    "    for i in range(size):\n",
    "        newList.append(int(input(f\"Enter element {i+1}: \")))\n",
    "    return newList\n",
    "\n",
    "def common(a, b):\n",
    "    return list(set(a) & set(b))\n",
    "\n",
    "m = int(input(\"Enter the size of 1st list: \"))\n",
    "l1 = create_list(m)\n",
    "n = int(input(\"Enter the size of the 2nd list: \"))\n",
    "l2 = create_list(n)\n",
    "print(f\"The common elements of the lists are: {common(l1, l2)}\")"
   ]
  },
  {
   "cell_type": "markdown",
   "metadata": {},
   "source": [
    "6. Write a program to reverse a list."
   ]
  },
  {
   "cell_type": "code",
   "execution_count": 6,
   "metadata": {},
   "outputs": [
    {
     "name": "stdout",
     "output_type": "stream",
     "text": [
      "The entered list is [6, 6, 42, 2, 23]\n",
      "The reversed list is [23, 2, 42, 6, 6]\n"
     ]
    }
   ],
   "source": [
    "# Akash Duttachowdhury | 21052386\n",
    "def reversedList(l):\n",
    "    newList = []\n",
    "    for i in range(-1, -len(l)-1, -1):\n",
    "        newList.append(l[i])\n",
    "    return newList\n",
    "n = int(input(\"Enter the size of list: \"))\n",
    "lst = []\n",
    "for i in range(n):\n",
    "    lst.append(int(input(\"Enter element: \")))\n",
    "print(f\"The entered list is {lst}\")\n",
    "print(f\"The reversed list is {reversedList(lst)}\")"
   ]
  },
  {
   "cell_type": "markdown",
   "metadata": {},
   "source": [
    "7. Write a program to find the second largest and second smallest value from a list."
   ]
  },
  {
   "cell_type": "code",
   "execution_count": 7,
   "metadata": {},
   "outputs": [
    {
     "name": "stdout",
     "output_type": "stream",
     "text": [
      "2nd smallest: 2\n",
      "2nd largest: 9\n"
     ]
    }
   ],
   "source": [
    "# Akash Duttachowdhury | 21052386\n",
    "n = int(input(\"Enter the size of list: \"))\n",
    "arr = []\n",
    "for i in range(n):\n",
    "    arr.append(int(input(f\"Enter element {i+1}: \")))\n",
    "arr.sort()\n",
    "print(f\"2nd smallest: {arr[1]}\\n2nd largest: {arr[-2]}\")"
   ]
  },
  {
   "cell_type": "markdown",
   "metadata": {},
   "source": [
    "8. Write a program to find the average of all elements in a list."
   ]
  },
  {
   "cell_type": "code",
   "execution_count": 8,
   "metadata": {},
   "outputs": [
    {
     "name": "stdout",
     "output_type": "stream",
     "text": [
      "The average of the elements is 3.0\n"
     ]
    }
   ],
   "source": [
    "# Akash Duttachowdhury | 21052386\n",
    "n = int(input(\"Enter the size of list: \"))\n",
    "arr = []\n",
    "sum = 0\n",
    "for i in range(n):\n",
    "    arr.append(int(input(f\"Enter element {i+1}: \")))\n",
    "for number in arr:\n",
    "    sum += number\n",
    "print(f\"The average of the elements is {sum/n}\")"
   ]
  },
  {
   "cell_type": "markdown",
   "metadata": {},
   "source": [
    "9. Write a program to to generate random numbers within a given range and store it in a list."
   ]
  },
  {
   "cell_type": "code",
   "execution_count": 9,
   "metadata": {},
   "outputs": [
    {
     "name": "stdout",
     "output_type": "stream",
     "text": [
      "The list: [620, 747, 722, 578, 602, 982, 805, 182, 12, 504, 723, 242, 921, 189, 89, 741, 204, 898, 449, 624, 197, 298, 363, 340, 279, 197, 483, 602, 38, 346, 133, 200, 875, 911, 355, 318, 155, 748, 684, 567, 159, 987, 178, 603, 666, 314, 501, 321, 342, 619, 179, 451, 402, 903, 327, 735, 866, 467, 6, 37, 309, 528, 219, 692, 260, 198, 643, 884, 148, 490, 201, 69, 12, 628, 513, 172, 905, 748, 16, 75, 348, 73, 951, 682, 834, 10, 526, 654, 565, 539, 768, 212, 687, 199, 316, 272, 814, 226, 575, 401]\n"
     ]
    }
   ],
   "source": [
    "# Akash Duttachowdhury | 21052386\n",
    "import random\n",
    "m = int(input(\"Enter lower bound of range: \"))\n",
    "n = int(input(\"Enter upper bound of range: \"))\n",
    "size = int(input(\"Enter the size of the list: \"))\n",
    "numbers = []\n",
    "for i in range(size):\n",
    "    numbers.append(random.randint(m,n))\n",
    "print(\"The list:\", numbers)"
   ]
  },
  {
   "cell_type": "markdown",
   "metadata": {},
   "source": [
    "10. Write a program to split the even and odd elements into 2 different lists."
   ]
  },
  {
   "cell_type": "code",
   "execution_count": 11,
   "metadata": {},
   "outputs": [
    {
     "name": "stdout",
     "output_type": "stream",
     "text": [
      "Even No.s: [2, 4] \n",
      "Odd No.s: [1, 3, 5]\n"
     ]
    }
   ],
   "source": [
    "# Akash Duttachowdhury | 21052386\n",
    "n = int(input(\"Enter the size of list: \"))\n",
    "arr = []\n",
    "for i in range(n):\n",
    "    arr.append(int(input(f\"Enter element {i+1}: \")))\n",
    "even = []\n",
    "odd = []\n",
    "for number in arr:\n",
    "    if number%2==0:\n",
    "        even.append(number)\n",
    "    else:\n",
    "        odd.append(number)\n",
    "print(\"Even No.s:\", even, \"\\nOdd No.s:\", odd)"
   ]
  },
  {
   "cell_type": "markdown",
   "metadata": {},
   "source": [
    "11. Write a Python program to create a tuple"
   ]
  },
  {
   "cell_type": "code",
   "execution_count": null,
   "metadata": {},
   "outputs": [
    {
     "name": "stdout",
     "output_type": "stream",
     "text": [
      "The tuple created: ('akash', ' 12', ' 67', ' dutta')\n"
     ]
    }
   ],
   "source": [
    "# Akash Duttachowdhury | 21052386\n",
    "elements = input(\"Enter the tuple elements (separated by ','): \")\n",
    "create_tuple = tuple(elements.split(','))\n",
    "print(\"The tuple created:\", create_tuple)"
   ]
  },
  {
   "cell_type": "markdown",
   "metadata": {},
   "source": [
    "12. Write a Python program to create a tuple with different data types."
   ]
  },
  {
   "cell_type": "code",
   "execution_count": 12,
   "metadata": {},
   "outputs": [
    {
     "name": "stdout",
     "output_type": "stream",
     "text": [
      "The tuple created: ('akash', '12', '8.999')\n"
     ]
    }
   ],
   "source": [
    "# Akash Duttachowdhury | 21052386\n",
    "elements = input(\"Enter the tuple elements (separated by ','): \")\n",
    "create_tuple = tuple(elements.split(','))\n",
    "print(\"The tuple created:\", create_tuple)"
   ]
  },
  {
   "cell_type": "markdown",
   "metadata": {},
   "source": [
    "13. Write a Python program to unpack a tuple in several variables."
   ]
  },
  {
   "cell_type": "code",
   "execution_count": null,
   "metadata": {},
   "outputs": [
    {
     "name": "stdout",
     "output_type": "stream",
     "text": [
      "a = Akash\n",
      "b = 21052386\n",
      "c = CSE-15\n"
     ]
    }
   ],
   "source": [
    "# Akash Duttachowdhury | 21052386\n",
    "tup = ('Akash', 21052386, 'CSE-15')\n",
    "a, b, c = tup\n",
    "print(f\"a = {a}\\nb = {b}\\nc = {c}\")"
   ]
  },
  {
   "cell_type": "markdown",
   "metadata": {},
   "source": [
    "14. Write a Python program to add an item in a tuple."
   ]
  },
  {
   "cell_type": "code",
   "execution_count": null,
   "metadata": {},
   "outputs": [
    {
     "name": "stdout",
     "output_type": "stream",
     "text": [
      "The tuple created: ('akash', ' 12', ' dutta')\n",
      "Modified tuple is: ('akash', ' 12', ' dutta', 'cse15')\n"
     ]
    }
   ],
   "source": [
    "# Akash Duttachowdhury | 21052386\n",
    "elements = input(\"Enter the tuple elements (separated by ','): \")\n",
    "my_tuple = tuple(elements.split(','))\n",
    "print(\"The tuple created:\", my_tuple)\n",
    "extra = input(\"Enter element to add to the tuple: \")\n",
    "my_tuple += (extra, )\n",
    "print(\"Modified tuple is:\", my_tuple)"
   ]
  },
  {
   "cell_type": "markdown",
   "metadata": {},
   "source": [
    "15. Write a Python program to convert a tuple to a string."
   ]
  },
  {
   "cell_type": "code",
   "execution_count": null,
   "metadata": {},
   "outputs": [
    {
     "name": "stdout",
     "output_type": "stream",
     "text": [
      "The tuple created: ('akash', ' dutta', ' 12')\n",
      "Converting tuple to string: ('akash', ' dutta', ' 12')\n"
     ]
    }
   ],
   "source": [
    "# Akash Duttachowdhury | 21052386\n",
    "elements = input(\"Enter the tuple elements (separated by ','): \")\n",
    "my_tuple = tuple(elements.split(','))\n",
    "print(\"The tuple created:\", my_tuple)\n",
    "str_tuple = str(my_tuple)\n",
    "print(\"Converting tuple to string:\", str_tuple)"
   ]
  },
  {
   "cell_type": "markdown",
   "metadata": {},
   "source": [
    "16. Write a Python program to get the 4th element and 4th element from last of a tuple."
   ]
  },
  {
   "cell_type": "code",
   "execution_count": 13,
   "metadata": {},
   "outputs": [
    {
     "name": "stdout",
     "output_type": "stream",
     "text": [
      "The tuple created: ('1', '2', '3', '4', '5', '6', '7', '8', '9', '10', '99')\n",
      "4th element: 4\n",
      "4th element from last: 8\n"
     ]
    }
   ],
   "source": [
    "# Akash Duttachowdhury | 21052386\n",
    "elements = input(\"Enter the tuple elements (separated by ','): \")\n",
    "my_tuple = tuple(elements.split(','))\n",
    "print(\"The tuple created:\", my_tuple)\n",
    "print(f\"4th element: {my_tuple[3]}\\n4th element from last: {my_tuple[-4]}\")"
   ]
  },
  {
   "cell_type": "markdown",
   "metadata": {},
   "source": [
    "17. Write a Python program to find the repeated items of a tuple."
   ]
  },
  {
   "cell_type": "code",
   "execution_count": 14,
   "metadata": {},
   "outputs": [
    {
     "name": "stdout",
     "output_type": "stream",
     "text": [
      "The tuple created: ('1', '1', '1', '2', '2', '3', '3', '4', '5', '4')\n",
      "The repeated elements of the tuple are {'3', '2', '4', '1'}\n"
     ]
    }
   ],
   "source": [
    "# Akash Duttachowdhury | 21052386\n",
    "elements = input(\"Enter the tuple elements (separated by ','): \")\n",
    "my_tuple = tuple(elements.split(','))\n",
    "print(\"The tuple created:\", my_tuple)\n",
    "repeated = set()\n",
    "unique = set()\n",
    "for element in my_tuple:\n",
    "    if element in unique:\n",
    "        repeated.add(element)\n",
    "    else:\n",
    "        unique.add(element)\n",
    "print(\"The repeated elements of the tuple are\", repeated)"
   ]
  },
  {
   "cell_type": "markdown",
   "metadata": {},
   "source": [
    "18. Write a Python program to check whether an element exists within a tuple."
   ]
  },
  {
   "cell_type": "code",
   "execution_count": 15,
   "metadata": {},
   "outputs": [
    {
     "name": "stdout",
     "output_type": "stream",
     "text": [
      "The tuple created: ('1', '2', '3', '4', '5', '6', '7', '8', '9', '10')\n",
      "Element exists in tuple\n"
     ]
    }
   ],
   "source": [
    "# Akash Duttachowdhury | 21052386\n",
    "elements = input(\"Enter the tuple elements (separated by ','): \")\n",
    "my_tuple = tuple(elements.split(','))\n",
    "print(\"The tuple created:\", my_tuple)\n",
    "key = input(\"Enter element to search for: \")\n",
    "if key in my_tuple:\n",
    "    print(\"Element exists in tuple\")\n",
    "else:\n",
    "    print(\"Element does not exist in tuple\")"
   ]
  },
  {
   "cell_type": "markdown",
   "metadata": {},
   "source": [
    "19. Write a Python program to slice a tuple."
   ]
  },
  {
   "cell_type": "code",
   "execution_count": null,
   "metadata": {},
   "outputs": [
    {
     "name": "stdout",
     "output_type": "stream",
     "text": [
      "The tuple created: ('1', '2', '3', '4', '5', '6', '7', '8', 'ijiuv')\n",
      "The sliced tuple is ('4', '5', '6', '7')\n"
     ]
    }
   ],
   "source": [
    "# Akash Duttachowdhury | 21052386\n",
    "elements = input(\"Enter the tuple elements (separated by ','): \")\n",
    "my_tuple = tuple(elements.split(','))\n",
    "print(\"The tuple created:\", my_tuple)\n",
    "start = int(input(\"Enter start index: \"))\n",
    "end = int(input(\"Enter end index: \"))\n",
    "sliced_tuple = my_tuple[start:end]\n",
    "print(\"The sliced tuple is\", sliced_tuple)"
   ]
  },
  {
   "cell_type": "markdown",
   "metadata": {},
   "source": [
    "20. Write a Python program to find the index of an item of a tuple."
   ]
  },
  {
   "cell_type": "code",
   "execution_count": null,
   "metadata": {},
   "outputs": [
    {
     "name": "stdout",
     "output_type": "stream",
     "text": [
      "The tuple created: ('1', '2', '3', '4', '5')\n",
      "Index = 2\n"
     ]
    }
   ],
   "source": [
    "# Akash Duttachowdhury | 21052386\n",
    "elements = input(\"Enter the tuple elements (separated by ','): \")\n",
    "my_tuple = tuple(elements.split(','))\n",
    "print(\"The tuple created:\", my_tuple)\n",
    "key = input(\"Enter element to look for index: \")\n",
    "if key in my_tuple:\n",
    "    print(\"Index =\", my_tuple.index(key))\n",
    "else:\n",
    "    print(\"Element not in tuple\")"
   ]
  },
  {
   "cell_type": "markdown",
   "metadata": {},
   "source": [
    "21. Write a Python program to find the length of a tuple."
   ]
  },
  {
   "cell_type": "code",
   "execution_count": 16,
   "metadata": {},
   "outputs": [
    {
     "name": "stdout",
     "output_type": "stream",
     "text": [
      "The tuple created: ('1', '2', '3', '4', '5')\n",
      "Length of the tuple is 5\n"
     ]
    }
   ],
   "source": [
    "# Akash Duttachowdhury | 21052386\n",
    "elements = input(\"Enter the tuple elements (separated by ','): \")\n",
    "my_tuple = tuple(elements.split(','))\n",
    "print(\"The tuple created:\", my_tuple)\n",
    "print(\"Length of the tuple is\", len(my_tuple))"
   ]
  },
  {
   "cell_type": "markdown",
   "metadata": {},
   "source": [
    "22. Write a Python program to convert a tuple to a dictionary."
   ]
  },
  {
   "cell_type": "code",
   "execution_count": null,
   "metadata": {},
   "outputs": [
    {
     "name": "stdout",
     "output_type": "stream",
     "text": [
      "The tuple created: ('1', '2', '3', '4', '5', '6')\n",
      "The dictionary is {'1': '2', '3': '4', '5': '6'}\n"
     ]
    }
   ],
   "source": [
    "# Akash Duttachowdhury | 21052386\n",
    "elements = input(\"Enter the tuple elements (separated by ','): \")\n",
    "my_tuple = tuple(elements.split(','))\n",
    "print(\"The tuple created:\", my_tuple)\n",
    "if len(my_tuple)%2!=0:\n",
    "    print(\"The tuple must contain even elements for key-value pairs\")\n",
    "else:\n",
    "    my_dict = dict(zip(my_tuple[0::2], my_tuple[1::2]))\n",
    "print(\"The dictionary is\", my_dict)"
   ]
  },
  {
   "cell_type": "markdown",
   "metadata": {},
   "source": [
    "23. Write a Python program to unzip a list of tuples into individual lists."
   ]
  },
  {
   "cell_type": "code",
   "execution_count": null,
   "metadata": {},
   "outputs": [
    {
     "name": "stdout",
     "output_type": "stream",
     "text": [
      "List 1: (1, 2, 3)\n",
      "List 2: ('one', 'two', 'three')\n",
      "List 3: ('I', 'II', 'III')\n"
     ]
    }
   ],
   "source": [
    "# Akash Duttachowdhury | 21052386\n",
    "def unzip_tuples(tuple_list):\n",
    "    unzipped_lists = list(zip(*tuple_list))\n",
    "    return unzipped_lists\n",
    "\n",
    "my_list_of_tuples = [(1, 'one', 'I'), (2, 'two', 'II'), (3, 'three', 'III')]\n",
    "unzipped_result = unzip_tuples(my_list_of_tuples)\n",
    "for i, lst in enumerate(unzipped_result, 1):\n",
    "    print(f\"List {i}: {lst}\")\n"
   ]
  },
  {
   "cell_type": "markdown",
   "metadata": {},
   "source": [
    "24. Write a Python program to reverse a tuple."
   ]
  },
  {
   "cell_type": "code",
   "execution_count": null,
   "metadata": {},
   "outputs": [
    {
     "name": "stdout",
     "output_type": "stream",
     "text": [
      "The tuple created: ('1', '2', '3', '4', '5')\n",
      "The reversed tuple is ('5', '4', '3', '2', '1')\n"
     ]
    }
   ],
   "source": [
    "# Akash Duttachowdhury | 21052386\n",
    "elements = input(\"Enter the tuple elements (separated by ','): \")\n",
    "my_tuple = tuple(elements.split(','))\n",
    "print(\"The tuple created:\", my_tuple)\n",
    "reversed_tuple  = my_tuple[::-1]\n",
    "print(\"The reversed tuple is\", reversed_tuple)"
   ]
  },
  {
   "cell_type": "markdown",
   "metadata": {},
   "source": [
    "25. Write a Python program to convert a list of tuples into a dictionary."
   ]
  },
  {
   "cell_type": "code",
   "execution_count": null,
   "metadata": {},
   "outputs": [
    {
     "name": "stdout",
     "output_type": "stream",
     "text": [
      "Converted dictionary: {1: 'one', 2: 'two', 3: 'three'}\n"
     ]
    }
   ],
   "source": [
    "def list_of_tuples_to_dict(tuple_list):\n",
    "    result_dict = dict(tuple_list)\n",
    "    return result_dict\n",
    "\n",
    "my_list_of_tuples = [(1, 'one'), (2, 'two'), (3, 'three')]\n",
    "\n",
    "converted_dict = list_of_tuples_to_dict(my_list_of_tuples)\n",
    "\n",
    "print(\"Converted dictionary:\", converted_dict)\n"
   ]
  },
  {
   "cell_type": "markdown",
   "metadata": {},
   "source": [
    "26. Write a Python program to print a tuple with string formatting.<br>\n",
    "Sample tuple : (100, 200, 300)<br>\n",
    "Output : This is a tuple (100, 200, 300)"
   ]
  },
  {
   "cell_type": "code",
   "execution_count": 17,
   "metadata": {},
   "outputs": [
    {
     "name": "stdout",
     "output_type": "stream",
     "text": [
      "The tuple created: ('12', '3', '4', '5', 'akash')\n"
     ]
    }
   ],
   "source": [
    "# Akash Duttachowdhury | 21052386\n",
    "elements = input(\"Enter the tuple elements (separated by ','): \")\n",
    "my_tuple = tuple(elements.split(','))\n",
    "print(\"The tuple created:\", my_tuple)"
   ]
  },
  {
   "cell_type": "markdown",
   "metadata": {},
   "source": [
    "27. Write a Python program to replace last value of tuples in a list.<br>\n",
    "Sample list: [(10, 20, 40), (40, 50, 60), (70, 80, 90)]<br>\n",
    "Expected Output: [(10, 20, 100), (40, 50, 100), (70, 80, 100)]"
   ]
  },
  {
   "cell_type": "code",
   "execution_count": 18,
   "metadata": {},
   "outputs": [
    {
     "name": "stdout",
     "output_type": "stream",
     "text": [
      "Tuple 3 Elements : 5, 6, 7\n"
     ]
    }
   ],
   "source": [
    "# Akash Duttachowdhury | 21052386\n",
    "num_tuples = int(input(\"Enter the Number of Tuples : \"))\n",
    "for i in range(num_tuples):\n",
    "    user_input = input(f\"Enter Elements of Tuple {i + 1} separated by ',' : \") \n",
    "elements = user_input.split(',')\n",
    "my_tuple = tuple(map(eval, elements))\n",
    "formatted_string = f\"Tuple {i + 1} Elements : {', '.join(map(str, my_tuple ))}\"\n",
    "print(formatted_string)"
   ]
  },
  {
   "cell_type": "markdown",
   "metadata": {},
   "source": [
    "28. Write a Python program to replace last value of tuples in a list.<br>\n",
    "Sample data: [(), (), ('',), ('a', 'b'), ('a', 'b', 'c'), ('d')]<br>\n",
    "Expected output: [('',), ('a', 'b'), ('a', 'b', 'c'), 'd']"
   ]
  },
  {
   "cell_type": "code",
   "execution_count": 23,
   "metadata": {},
   "outputs": [
    {
     "name": "stdout",
     "output_type": "stream",
     "text": [
      "Original data: [(1, 2, 3), (4, 5, 6)]\n",
      "Modified data: [(1, 2, ''), (4, 5, '')]\n"
     ]
    }
   ],
   "source": [
    "# Akash Duttachowdhury | 21052386\n",
    "def replace_last_value(lst):\n",
    "    result = []\n",
    "    for tup in lst:\n",
    "        if len(tup) == 0:\n",
    "            result.append(('',))\n",
    "        else:\n",
    "            result.append(tup[:-1] + ('',) if tup[-1] != '' else tup)\n",
    "    return result\n",
    "\n",
    "\n",
    "input_data = input(\"Enter a list of tuples separated by commas: \")\n",
    "user_data = eval(input_data)  \n",
    "\n",
    "if not isinstance(user_data, list):\n",
    "    print(\"Invalid input. Please enter a list of tuples.\")\n",
    "else:\n",
    "    output = replace_last_value(user_data)\n",
    "\n",
    "    print(\"Original data:\", user_data)\n",
    "    print(\"Modified data:\", output)"
   ]
  },
  {
   "cell_type": "markdown",
   "metadata": {},
   "source": [
    "29. Write a Python program to sort a tuple by its float element.<br>\n",
    "Sample data: [('item1', '12.20'), ('item2', '15.10'), ('item3', '24.5')]<br>\n",
    "Expected Output: [('item3', '24.5'), ('item2', '15.10'), ('item1', '12.20')]"
   ]
  },
  {
   "cell_type": "code",
   "execution_count": 25,
   "metadata": {},
   "outputs": [
    {
     "name": "stdout",
     "output_type": "stream",
     "text": [
      "Original data: [(2, 3), (3, 4)]\n",
      "Sorted data by float element: [(3, 4), (2, 3)]\n"
     ]
    }
   ],
   "source": [
    "# Akash Duttachowdhury | 21052386\n",
    "def sort_tuple_by_float(tuple_list):\n",
    "    return sorted(tuple_list, key=lambda x: float(x[1]), reverse=True)\n",
    "\n",
    "input_data = input(\"Enter a list of tuples in the format [('item1', '12.20'), ('item2', '15.10'), ...]: \")\n",
    "user_data = eval(input_data) \n",
    "\n",
    "if not isinstance(user_data, list):\n",
    "    print(\"Invalid input. Please enter a list of tuples.\")\n",
    "else:\n",
    "    output = sort_tuple_by_float(user_data)\n",
    "\n",
    "    print(\"Original data:\", user_data)\n",
    "    print(\"Sorted data by float element:\", output)\n"
   ]
  },
  {
   "cell_type": "markdown",
   "metadata": {},
   "source": [
    "30. Write a Python program to count the elements in a list until an element is a tuple."
   ]
  },
  {
   "cell_type": "code",
   "execution_count": 28,
   "metadata": {},
   "outputs": [
    {
     "name": "stdout",
     "output_type": "stream",
     "text": [
      "Number of elements until a tuple is encountered: 3\n"
     ]
    }
   ],
   "source": [
    "# Akash Duttachowdhury | 21052386\n",
    "def count_elements_until_tuple(lst):\n",
    "    count = 0\n",
    "    for elem in lst:\n",
    "        if isinstance(elem, tuple):\n",
    "            break\n",
    "        count += 1\n",
    "    return count\n",
    "\n",
    "input_data = input(\"Enter a list of elements separated by commas: \")\n",
    "user_list = eval(input_data)  \n",
    "if not isinstance(user_list, list):\n",
    "    print(\"Invalid input. Please enter a list of elements.\")\n",
    "else:\n",
    "    count_result = count_elements_until_tuple(user_list)\n",
    "\n",
    "    print(\"Number of elements until a tuple is encountered:\", count_result)"
   ]
  }
 ],
 "metadata": {
  "kernelspec": {
   "display_name": "Python 3",
   "language": "python",
   "name": "python3"
  },
  "language_info": {
   "codemirror_mode": {
    "name": "ipython",
    "version": 3
   },
   "file_extension": ".py",
   "mimetype": "text/x-python",
   "name": "python",
   "nbconvert_exporter": "python",
   "pygments_lexer": "ipython3",
   "version": "3.9.6"
  }
 },
 "nbformat": 4,
 "nbformat_minor": 2
}
