{
 "cells": [
  {
   "cell_type": "markdown",
   "metadata": {},
   "source": [
    "# Assignment 7\n",
    "### Akash Duttachowdhury\n",
    "### 21052386 "
   ]
  },
  {
   "cell_type": "markdown",
   "metadata": {},
   "source": [
    "<b>1. Write a program to create a dictionary containing names of competition winner students as keys and number of their wins as values."
   ]
  },
  {
   "cell_type": "code",
   "execution_count": 1,
   "metadata": {},
   "outputs": [
    {
     "name": "stdout",
     "output_type": "stream",
     "text": [
      "Dictionary Created: {'Akash': 12, 'Ravi': 8, 'Oppenheimer': 2}\n"
     ]
    }
   ],
   "source": [
    "# Akash Duttachowdhury | 21052386\n",
    "n = int(input(\"Enter total no. of students: \"))\n",
    "wins_log = {}\n",
    "for i in range(n):\n",
    "    name = input(\"Enter student's name: \")\n",
    "    wins = int(input(\"Enter no. of wins: \"))\n",
    "    wins_log[name] = wins\n",
    "print(f\"Dictionary Created: {wins_log}\")"
   ]
  },
  {
   "cell_type": "markdown",
   "metadata": {},
   "source": [
    "<b>2. Write a program to create a phone directory for all your friends and then print it."
   ]
  },
  {
   "cell_type": "code",
   "execution_count": null,
   "metadata": {},
   "outputs": [
    {
     "name": "stdout",
     "output_type": "stream",
     "text": [
      "Contacts: {'A': 123456789, 'B': 43646779867, 'C': 234567123}\n"
     ]
    }
   ],
   "source": [
    "# Akash Duttachowdhury | 21052386\n",
    "n = int(input(\"Enter no. of friends: \"))\n",
    "phonebook = {}\n",
    "for i in range(n):\n",
    "    name = input(\"Enter contact name: \")\n",
    "    phone = int(input(\"Enter phone no.: \"))\n",
    "    phonebook[name] = phone\n",
    "print(f\"Contacts: {phonebook}\")"
   ]
  },
  {
   "cell_type": "markdown",
   "metadata": {},
   "source": [
    "<b>3. Marks of three students ‘Suniti’, ‘Ryna’, and ‘ziva’ in 3 subjects are available in dictionary.<br>\n",
    "D1 = {1:40, 2:70, 3:70}<br>\n",
    "D2 = {1:40, 2:50, 3:60}<br>\n",
    "D3 = {1:70, 2:80, 3:90}<br>\n",
    "Sample Output:<br>\n",
    "Key Value <br>\n",
    "Ryna {1:40, 2:50, 3:60}<br>\n",
    "Subject(Key) Marks(Value)<br>\n",
    "1            40<br>\n",
    "2            50<br>\n",
    "3            60<br>\n",
    "Find the highest mark in subject 3."
   ]
  },
  {
   "cell_type": "code",
   "execution_count": null,
   "metadata": {},
   "outputs": [
    {
     "name": "stdout",
     "output_type": "stream",
     "text": [
      "The key with the highest value is '2' with a value of 80.\n"
     ]
    }
   ],
   "source": [
    "# Akash Duttachowdhury | 21052386\n",
    "D1 = {1: 40, 2: 70, 3: 70}\n",
    "D2 = {1: 40, 2: 50, 3: 60}\n",
    "D3 = {1: 70, 2: 80, 3: 60}\n",
    "main_dict = {\n",
    "    'Suniti': D1,\n",
    "    'Ryna': D2,\n",
    "    'Ziva': D3\n",
    "}\n",
    "flat_dict = {subkey: value for inner_dict in main_dict.values() for subkey, value in inner_dict.items()}\n",
    "max_key = max(flat_dict, key=flat_dict.get)\n",
    "max_value = flat_dict[max_key]\n",
    "\n",
    "print(f\"The key with the highest value is '{max_key}' with a value of {max_value}.\")\n"
   ]
  },
  {
   "cell_type": "markdown",
   "metadata": {},
   "source": [
    "<b>4. Create a dictionary whose keys are month names and whose values are the number of days in the corresponding months.<br>\n",
    "a) Ask the user to enter a month name and use the dictionary to tell them how many days are in the month."
   ]
  },
  {
   "cell_type": "code",
   "execution_count": 4,
   "metadata": {},
   "outputs": [
    {
     "name": "stdout",
     "output_type": "stream",
     "text": [
      "The no. of days in january are 31\n"
     ]
    }
   ],
   "source": [
    "# Akash Duttachowdhury | 21052386\n",
    "year = {\n",
    "    'january': 31,\n",
    "    'february': 28, #leap year not considered\n",
    "    'march': 31,\n",
    "    'april': 30,\n",
    "    'may': 31,\n",
    "    'june': 30,\n",
    "    'july': 31,\n",
    "    'august': 31,\n",
    "    'september': 30,\n",
    "    'october': 31,\n",
    "    'november': 30,\n",
    "    'december': 31\n",
    "}\n",
    "month = input(\"Enter a month: \").lower()\n",
    "print(f\"The no. of days in {month} are {year[month]}\")"
   ]
  },
  {
   "cell_type": "markdown",
   "metadata": {},
   "source": [
    "<b>b) Print out all the keys in alphabetical order."
   ]
  },
  {
   "cell_type": "code",
   "execution_count": 7,
   "metadata": {},
   "outputs": [
    {
     "name": "stdout",
     "output_type": "stream",
     "text": [
      "['april', 'august', 'december', 'february', 'january', 'july', 'june', 'march', 'may', 'november', 'october', 'september']\n"
     ]
    }
   ],
   "source": [
    "# Akash Duttachowdhury | 21052386\n",
    "year = {\n",
    "    'january': 31,\n",
    "    'february': 28, #leap year not considered\n",
    "    'march': 31,\n",
    "    'april': 30,\n",
    "    'may': 31,\n",
    "    'june': 30,\n",
    "    'july': 31,\n",
    "    'august': 31,\n",
    "    'september': 30,\n",
    "    'october': 31,\n",
    "    'november': 30,\n",
    "    'december': 31\n",
    "}\n",
    "lst = list(year.keys())\n",
    "lst.sort()\n",
    "print(lst)"
   ]
  },
  {
   "cell_type": "markdown",
   "metadata": {},
   "source": [
    "<b>c) Print out all of the month with 31 days."
   ]
  },
  {
   "cell_type": "code",
   "execution_count": 8,
   "metadata": {},
   "outputs": [
    {
     "name": "stdout",
     "output_type": "stream",
     "text": [
      "january\n",
      "march\n",
      "may\n",
      "july\n",
      "august\n",
      "october\n",
      "december\n"
     ]
    }
   ],
   "source": [
    "# Akash Duttachowdhury | 21052386\n",
    "year = {\n",
    "    'january': 31,\n",
    "    'february': 28, #leap year not considered\n",
    "    'march': 31,\n",
    "    'april': 30,\n",
    "    'may': 31,\n",
    "    'june': 30,\n",
    "    'july': 31,\n",
    "    'august': 31,\n",
    "    'september': 30,\n",
    "    'october': 31,\n",
    "    'november': 30,\n",
    "    'december': 31\n",
    "}\n",
    "for month in year:\n",
    "    if year[month] == 31:\n",
    "        print(month)"
   ]
  },
  {
   "cell_type": "markdown",
   "metadata": {},
   "source": [
    "\n",
    "<b>d) Print out the (key value) pairs started by the number of days in each month."
   ]
  },
  {
   "cell_type": "code",
   "execution_count": 11,
   "metadata": {},
   "outputs": [
    {
     "name": "stdout",
     "output_type": "stream",
     "text": [
      "february\n",
      "january\n",
      "march\n",
      "april\n",
      "may\n",
      "june\n",
      "july\n",
      "august\n",
      "september\n",
      "october\n",
      "november\n",
      "december\n"
     ]
    }
   ],
   "source": [
    "# Akash Duttachowdhury | 21052386\n",
    "year = {\n",
    "    'january': 31,\n",
    "    'february': 28, #leap year not considered\n",
    "    'march': 31,\n",
    "    'april': 30,\n",
    "    'may': 31,\n",
    "    'june': 30,\n",
    "    'july': 31,\n",
    "    'august': 31,\n",
    "    'september': 30,\n",
    "    'october': 31,\n",
    "    'november': 30,\n",
    "    'december': 31\n",
    "}\n",
    "print('february')\n",
    "for month in year:\n",
    "    if year[month] == 30:\n",
    "        print(month)\n",
    "    if year[month] == 31:\n",
    "        print(month)"
   ]
  },
  {
   "cell_type": "markdown",
   "metadata": {},
   "source": [
    "<b>5. Repeatedly ask the user to enter a team name and how many games the team has won and how many they lost. Store this information in a dictionary where the keys are the team names and the values are list of the form [wins, losses]<br>\n",
    "a) Using the dictionary created above, allow the user to enter a team name and print out the team’s winning percentage.\n",
    "<br>b) Using the dictionary, create a list whose entries are the number of wins of each team.\n",
    "<br>c) Using the dictionary, create a list of all those teams that have winning records.\n"
   ]
  },
  {
   "cell_type": "code",
   "execution_count": 18,
   "metadata": {},
   "outputs": [
    {
     "name": "stdout",
     "output_type": "stream",
     "text": [
      "Winning % of C is 100.0\n",
      "No. of wins of each team: [1, 3, 6]\n",
      "Winning records [2, 2, 2]\n"
     ]
    }
   ],
   "source": [
    "# Akash Duttachowdhury | 21052386\n",
    "n = int(input('Enter the no. of teams: '))\n",
    "teams = {}\n",
    "for i in range(n):\n",
    "    name = input(\"Enter team name: \")\n",
    "    wins = int(input(\"Enter no. of wins: \"))\n",
    "    losses = int(input(\"Enter no. of losses: \"))\n",
    "    teams[name] = [wins, losses]\n",
    "\n",
    "team = input(\"Enter team name: \")\n",
    "print(f\"Winning % of {team} is {(teams[team][0] / sum(teams[team])) * 100}\")\n",
    "\n",
    "win_team = [team[0] for team in teams.values()]\n",
    "print(f\"No. of wins of each team: {win_team}\")\n",
    "\n",
    "win_record = []\n",
    "for team in teams:\n",
    "    if teams[team][0] > 0:\n",
    "        win_record.append(i)\n",
    "print(f\"Winning records {win_record}\")"
   ]
  }
 ],
 "metadata": {
  "kernelspec": {
   "display_name": "Python 3",
   "language": "python",
   "name": "python3"
  },
  "language_info": {
   "codemirror_mode": {
    "name": "ipython",
    "version": 3
   },
   "file_extension": ".py",
   "mimetype": "text/x-python",
   "name": "python",
   "nbconvert_exporter": "python",
   "pygments_lexer": "ipython3",
   "version": "3.9.6"
  }
 },
 "nbformat": 4,
 "nbformat_minor": 2
}
