{
 "cells": [
  {
   "cell_type": "markdown",
   "metadata": {},
   "source": [
    "# Assignment 6\n",
    "### Akash Duttachowdhury\n",
    "### 21052386"
   ]
  },
  {
   "cell_type": "markdown",
   "metadata": {},
   "source": [
    "1. Ms. Gabriel is a botany professor at District College. One day, she asked her student Mickey to compute the average of all the plants with distinct heights in her greenhouse.<br>Formula Used:<br><b>Average = Sum of distinct heights / Total number of distinct heights</b>\n",
    "<br><br>\n",
    "<b>Input Format</b><br>The first line contains the integer, N, the total number of plants<br>The second line contains the N space separated heights of the plants.<br>\n",
    "<b>Constraints<br>0 < N <= 100<br>Output Format</b><br>Output the average height value on a single line."
   ]
  },
  {
   "cell_type": "code",
   "execution_count": 6,
   "metadata": {},
   "outputs": [
    {
     "name": "stdout",
     "output_type": "stream",
     "text": [
      "169.375\n"
     ]
    }
   ],
   "source": [
    "# Akash Duttachowdhury | 21052386\n",
    "def avg_height(array):\n",
    "    dist = set(array)\n",
    "    return sum(dist) / len(dist)\n",
    "\n",
    "n = int(input())\n",
    "arr = list(map(int, input().split()))\n",
    "result = avg_height(arr)\n",
    "print(result)"
   ]
  },
  {
   "cell_type": "markdown",
   "metadata": {},
   "source": [
    "2. The students of District College have subscriptions to English and French newspapers. Some students have subscribed only to English, some have subscribed only to French, and some have subscribed to both newspapers.<br>\n",
    "You are given two sets of student roll numbers. One set has subscribed to the English newspaper, one set has subscribed to the French newspaper. Your task is to find the total number of students who have subscribed to both newspapers. <br>\n",
    "<b>Input Format</b><br>\n",
    "The first line contains , the number of students who have subscribed to the English newspaper.\n",
    "The second line contains space separated roll numbers of those students.\n",
    "The third line contains , the number of students who have subscribed to the French newspaper.\n",
    "The fourth line contains space separated roll numbers of those students.\n",
    "<br><b>Output Format</b><br>\n",
    "Output the total number of students who have subscriptions to both English and French newspapers."
   ]
  },
  {
   "cell_type": "code",
   "execution_count": 7,
   "metadata": {},
   "outputs": [
    {
     "name": "stdout",
     "output_type": "stream",
     "text": [
      "5\n"
     ]
    }
   ],
   "source": [
    "# Akash Duttachowdhury | 21052386\n",
    "n, set_n, b, set_b = int(input()), set(input().split()), int(input()), set(input().split())\n",
    "print(len(set_n.intersection(set_b)))"
   ]
  },
  {
   "cell_type": "markdown",
   "metadata": {},
   "source": [
    "<b>3. TASK</b><br>\n",
    "You are given a set and number of other sets. These number of sets have to perform some specific mutation operations on set. <br>\n",
    "Your task is to execute those operations and print the sum of elements from set.<br>\n",
    "<b>Input Format</b><br>\n",
    "The first line contains the number of elements in set.<br>\n",
    "The second line contains the space separated list of elements in set.<br>\n",
    "The third line contains integer, the number of other sets.<br>\n",
    "The next lines are divided into parts containing two lines each.<br>\n",
    "The first line of each part contains the space separated entries of the operation name and the length of the other set.<br>\n",
    "The second line of each part contains space separated list of elements in the other set."
   ]
  },
  {
   "cell_type": "code",
   "execution_count": 8,
   "metadata": {},
   "outputs": [
    {
     "name": "stdout",
     "output_type": "stream",
     "text": [
      "38\n"
     ]
    }
   ],
   "source": [
    "# Akash Duttachowdhury | 21052386\n",
    "n, set_A = int(input()), set(input().split())\n",
    "\n",
    "for _ in range(int(input())):\n",
    "    op, set_B = input().split(), input().split()\n",
    "    if op[0] == 'intersection_update':\n",
    "        set_A.intersection_update(set_B)\n",
    "    elif op[0] == 'difference_update':\n",
    "        set_A.difference_update(set_B)\n",
    "    elif op[0] == 'symmetric_difference_update':\n",
    "        set_A.symmetric_difference_update(set_B)\n",
    "    elif op[0] == 'update':\n",
    "        set_A.update(set_B)\n",
    "\n",
    "print(sum(map(int, set_A)))"
   ]
  }
 ],
 "metadata": {
  "kernelspec": {
   "display_name": "Python 3",
   "language": "python",
   "name": "python3"
  },
  "language_info": {
   "codemirror_mode": {
    "name": "ipython",
    "version": 3
   },
   "file_extension": ".py",
   "mimetype": "text/x-python",
   "name": "python",
   "nbconvert_exporter": "python",
   "pygments_lexer": "ipython3",
   "version": "3.9.6"
  }
 },
 "nbformat": 4,
 "nbformat_minor": 2
}
