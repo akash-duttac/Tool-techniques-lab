{
 "cells": [
  {
   "cell_type": "markdown",
   "metadata": {},
   "source": [
    "# Assignment 2\n",
    "## Akash Duttachowdhury\n",
    "## 21052386\n",
    "## CSE-15"
   ]
  },
  {
   "cell_type": "markdown",
   "metadata": {},
   "source": [
    "<b>1. Write a program that asks the user to enter a length in centimetres. If the user enters a negative length, the program should tell the user that the entry is invalid. Otherwise, the program should convert the length to inches and print out the result. 1inch = 2.54 centimetres."
   ]
  },
  {
   "cell_type": "code",
   "execution_count": 1,
   "metadata": {},
   "outputs": [
    {
     "name": "stdin",
     "output_type": "stream",
     "text": [
      "Enter length(in cm):  15\n"
     ]
    },
    {
     "name": "stdout",
     "output_type": "stream",
     "text": [
      "15.0 cm = 5.905511811023622 inches\n"
     ]
    }
   ],
   "source": [
    "# Akash Duttachowdhury | 21052386\n",
    "cm = float(input(\"Enter length(in cm): \"))\n",
    "if cm < 0:\n",
    "    print(f\"Negative length!!\")\n",
    "else:\n",
    "    print(f\"{cm} cm = {cm/2.54} inches\")"
   ]
  },
  {
   "cell_type": "markdown",
   "metadata": {},
   "source": [
    "<b>2. Ask the user for a temperature. Then ask them what units, Celsius or Fahrenheit, the temperature is in. Your program should convert the temperature to the other unit. The conversions are F = 9/5C + 32 and C = 5/9(F − 32)."
   ]
  },
  {
   "cell_type": "code",
   "execution_count": 2,
   "metadata": {},
   "outputs": [
    {
     "name": "stdin",
     "output_type": "stream",
     "text": [
      "Enter a temperature:  100\n",
      "Enter 1 (for Celsius) or 2 (for Fahrenheit):  2\n"
     ]
    },
    {
     "name": "stdout",
     "output_type": "stream",
     "text": [
      "100.0 F = 37.77777777777778 C\n"
     ]
    }
   ],
   "source": [
    "# Akash Duttachowdhury | 21052386\n",
    "t = float(input(\"Enter a temperature: \"))\n",
    "choice = int(input(\"Enter 1 (for Celsius) or 2 (for Fahrenheit): \"))\n",
    "if choice == 1:\n",
    "    print(f\"{t} C = {t*9/5 + 32} F\")\n",
    "else:\n",
    "    print(f\"{t} F = {5/9*(t-32)} C\")"
   ]
  },
  {
   "cell_type": "markdown",
   "metadata": {},
   "source": [
    "<b>3. Ask the user to enter a temperature in Celsius. The program should print a message based on the temperature: If the temperature is less than -273.15, print that the temperature is invalid because it is below absolute zero. \n",
    "• If it is exactly -273.15, print that the temperature is absolute 0. \n",
    "• If the temperature is between- 273.15 and 0, print that the temperature is below freezing. \n",
    "• If it is 0, print that the temperature is at the freezing point. • If it is between 0 and 100, print that the temperature is in the normal range. \n",
    "• If it is 100, print that the temperature is at the boiling point. \n",
    "• If it is above 100, print that the temperature is above the boiling point."
   ]
  },
  {
   "cell_type": "code",
   "execution_count": 3,
   "metadata": {},
   "outputs": [
    {
     "name": "stdin",
     "output_type": "stream",
     "text": [
      "Enter the temperature in Celsius:  233\n"
     ]
    },
    {
     "name": "stdout",
     "output_type": "stream",
     "text": [
      "The temperature is above the boiling point\n"
     ]
    }
   ],
   "source": [
    "# Akash Duttachowdhury | 21052386\n",
    "temp = float(input(\"Enter the temperature in Celsius: \"))\n",
    "if temp < -273.15:\n",
    "    print(\"The temperature is below absolute zero\")\n",
    "elif temp == -273.15:\n",
    "    print(\"The temperature is absolute zero\")\n",
    "elif temp > -273.15 and temp < 0:\n",
    "    print(\"The temperature is below freezing point\")\n",
    "elif temp >= 0 and temp < 100:\n",
    "    print(\"The temperature is in normal range\")\n",
    "elif temp==100:\n",
    "    print(\"The temperature is at boiling point\")\n",
    "else:\n",
    "    print(\"The temperature is above the boiling point\")"
   ]
  },
  {
   "cell_type": "markdown",
   "metadata": {},
   "source": [
    "<b>4. Write a program that asks the user how many credits they have taken. If they have taken 23 or less, print that the student is a freshman. If they have taken between 24 and 53, print that they are a sophomore. The range for juniors is 54 to 83, and for seniors it is 84 and over."
   ]
  },
  {
   "cell_type": "code",
   "execution_count": 4,
   "metadata": {},
   "outputs": [
    {
     "name": "stdin",
     "output_type": "stream",
     "text": [
      "Enter the no. of credits:  19\n"
     ]
    },
    {
     "name": "stdout",
     "output_type": "stream",
     "text": [
      "Freshman\n"
     ]
    }
   ],
   "source": [
    "# Akash Duttachowdhury | 21052386\n",
    "no = int(input(\"Enter the no. of credits: \"))\n",
    "if no <= 23:\n",
    "    print(\"Freshman\")\n",
    "elif no >= 24 and no <= 53:\n",
    "    print(\"Sophomore\")\n",
    "elif no >= 54 and no <= 83:\n",
    "    print(\"Junior\")\n",
    "else:\n",
    "    print(\"Senior\")"
   ]
  },
  {
   "cell_type": "markdown",
   "metadata": {},
   "source": [
    "<b>5. A store charges Rs. 12 per item if you buy less than 10 items. If you buy between 10 and 99 items, the cost is Rs. 10 per item. If you buy 100 or more items, the cost is Rs. 7 per item. Write a program that asks the user how many items they are buying and prints the total cost."
   ]
  },
  {
   "cell_type": "code",
   "execution_count": 5,
   "metadata": {},
   "outputs": [
    {
     "name": "stdin",
     "output_type": "stream",
     "text": [
      "Enter the no. of items:  33\n"
     ]
    },
    {
     "name": "stdout",
     "output_type": "stream",
     "text": [
      "Cost = 330\n"
     ]
    }
   ],
   "source": [
    "# Akash Duttachowdhury | 21052386\n",
    "n = int(input(\"Enter the no. of items: \"))\n",
    "if n < 10:\n",
    "    print(f\"Cost = {12*n}\")\n",
    "elif n >= 10 and n < 100:\n",
    "    print(f\"Cost = {10*n}\")\n",
    "else:\n",
    "    print(f\"Cost = {7*n}\")\n"
   ]
  },
  {
   "cell_type": "markdown",
   "metadata": {},
   "source": [
    "<b>6. Write a program that asks the user for two numbers and prints Close if the numbers are within .001 of each other and Not close otherwise."
   ]
  },
  {
   "cell_type": "code",
   "execution_count": 6,
   "metadata": {},
   "outputs": [
    {
     "name": "stdin",
     "output_type": "stream",
     "text": [
      "Enter the first number:  12\n",
      "Enter the second number:  88\n"
     ]
    },
    {
     "name": "stdout",
     "output_type": "stream",
     "text": [
      "Not close\n"
     ]
    }
   ],
   "source": [
    "# Akash Duttachowdhury | 21052386\n",
    "def are_close(num1, num2, tolerance=0.001):\n",
    "    return abs(num1 - num2) <= tolerance\n",
    "\n",
    "# Get user input for two numbers\n",
    "num1 = float(input(\"Enter the first number: \"))\n",
    "num2 = float(input(\"Enter the second number: \"))\n",
    "\n",
    "# Check if the numbers are close or not\n",
    "if are_close(num1, num2):\n",
    "    print(\"Close\")\n",
    "else:\n",
    "    print(\"Not close\")\n"
   ]
  },
  {
   "cell_type": "markdown",
   "metadata": {},
   "source": [
    "<b>7. A year is a leap year if it is divisible by 4, except that years divisible by 100 are not leap years unless they are also divisible by 400. Write a program that asks the user for a year and prints out whether it is a leap year or not."
   ]
  },
  {
   "cell_type": "code",
   "execution_count": 7,
   "metadata": {},
   "outputs": [
    {
     "name": "stdin",
     "output_type": "stream",
     "text": [
      "Enter a year:  2024\n"
     ]
    },
    {
     "name": "stdout",
     "output_type": "stream",
     "text": [
      "2024 is a leap year.\n"
     ]
    }
   ],
   "source": [
    "# Akash Duttachowdhury | 21052386\n",
    "def is_leap_year(year):\n",
    "    if year % 4 == 0:\n",
    "        if year % 100 == 0:\n",
    "            return year % 400 == 0\n",
    "        else:\n",
    "            return True\n",
    "    else:\n",
    "        return False\n",
    "\n",
    "year = int(input(\"Enter a year: \"))\n",
    "\n",
    "if is_leap_year(year):\n",
    "    print(f\"{year} is a leap year.\")\n",
    "else:\n",
    "    print(f\"{year} is not a leap year.\")\n"
   ]
  },
  {
   "cell_type": "markdown",
   "metadata": {},
   "source": [
    "<b>8. Write a program that asks the user for an hour between 1 and 12, asks them to enter am or pm, and asks them how many hours into the future they want to go. Print out what the hour will be that many hours into the future, printing am or pm as appropriate. An example is shown below.\n",
    "Enter hour: 8 am How many hours ahead? 5 New hour: 1 pm"
   ]
  },
  {
   "cell_type": "code",
   "execution_count": 8,
   "metadata": {},
   "outputs": [
    {
     "name": "stdin",
     "output_type": "stream",
     "text": [
      "Enter hour (between 1 to 12):  5\n",
      "Enter 'am' or 'pm':  am\n",
      "How many hours ahead?:  8\n"
     ]
    },
    {
     "name": "stdout",
     "output_type": "stream",
     "text": [
      "Future time: 1 pm\n"
     ]
    }
   ],
   "source": [
    "# Akash Duttachowdhury | 21052386\n",
    "def calculate_future_hour(hour, period, hours_ahead):\n",
    "    hour_in24 = hour + 12 if period.lower() == \"pm\" else hour\n",
    "    future_hour_in24 = (hour_in24 + hours_ahead) % 24\n",
    "    future_hour = future_hour_in24 if future_hour_in24 <= 12 else future_hour_in24 - 12\n",
    "    future_period = \"am\" if future_hour_in24 < 12 else \"pm\"\n",
    "    print(f\"Future time: {future_hour} {future_period}\")\n",
    "\n",
    "\n",
    "hour = int(input(\"Enter hour (between 1 to 12): \"))\n",
    "period = input(\"Enter 'am' or 'pm': \").lower()\n",
    "hours_ahead = int(input(\"How many hours ahead?: \"))\n",
    "calculate_future_hour(hour, period, hours_ahead)\n"
   ]
  }
 ],
 "metadata": {
  "kernelspec": {
   "display_name": "Python 3 (ipykernel)",
   "language": "python",
   "name": "python3"
  },
  "language_info": {
   "codemirror_mode": {
    "name": "ipython",
    "version": 3
   },
   "file_extension": ".py",
   "mimetype": "text/x-python",
   "name": "python",
   "nbconvert_exporter": "python",
   "pygments_lexer": "ipython3",
   "version": "3.12.0"
  }
 },
 "nbformat": 4,
 "nbformat_minor": 4
}
