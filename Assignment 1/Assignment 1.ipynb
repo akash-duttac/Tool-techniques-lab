{
 "cells": [
  {
   "cell_type": "markdown",
   "id": "ef9d1995-98ba-4e70-b196-27badbbe6146",
   "metadata": {},
   "source": [
    "<h1>Assignment 1</h1>"
   ]
  },
  {
   "cell_type": "markdown",
   "id": "c0b8b084-5ed4-4618-a41c-ec223016ee00",
   "metadata": {},
   "source": [
    "<h3>Akash Duttachowdhury</h3>\n",
    "<h3>21052386</h3>"
   ]
  },
  {
   "cell_type": "markdown",
   "id": "ee127a6c-6a22-4cee-8acf-ceb5fb768b60",
   "metadata": {},
   "source": [
    "<b>1. Write a python program to input two numbers and do all basic arithmetic operations on them.</b>"
   ]
  },
  {
   "cell_type": "code",
   "execution_count": 1,
   "id": "3309642c-7614-450e-820f-9b9c55fb375e",
   "metadata": {},
   "outputs": [
    {
     "name": "stdout",
     "output_type": "stream",
     "text": [
      "Enter first no.:  12\n",
      "Enter second no.:  10\n"
     ]
    },
    {
     "name": "stdout",
     "output_type": "stream",
     "text": [
      "a = 12 & b = 10\n",
      "a + b = 22\n",
      "a - b = 2\n",
      "a * b = 120\n",
      "a / b = 1.2\n"
     ]
    }
   ],
   "source": [
    "# Akash Duttachowdhury | 21052386\n",
    "a = int(input(\"Enter first no.: \"))\n",
    "b = int(input(\"Enter second no.: \"))\n",
    "print(f\"a = {a} & b = {b}\")\n",
    "print(f\"a + b = {a+b}\")\n",
    "print(f\"a - b = {a-b}\")\n",
    "print(f\"a * b = {a*b}\")\n",
    "print(f\"a / b = {a/b}\")"
   ]
  },
  {
   "cell_type": "markdown",
   "id": "0280821f-a3d0-43ff-b604-481770acd6e8",
   "metadata": {},
   "source": [
    "<b>2. Write a python program to input two number and swap their values without using any third variable.</b>"
   ]
  },
  {
   "cell_type": "code",
   "execution_count": 2,
   "id": "381daa6c-fa7c-4af9-b4e4-1f80ecb5033b",
   "metadata": {},
   "outputs": [
    {
     "name": "stdout",
     "output_type": "stream",
     "text": [
      "Enter a:  2\n",
      "Enter b:  3\n"
     ]
    },
    {
     "name": "stdout",
     "output_type": "stream",
     "text": [
      "a = 3, b = 2\n"
     ]
    }
   ],
   "source": [
    "# Akash Duttachowdhury | 21052386\n",
    "a = int(input(\"Enter a: \"))\n",
    "b = int(input(\"Enter b: \"))\n",
    "a = a + b\n",
    "b = a - b\n",
    "a = a - b\n",
    "print(f\"a = {a}, b = {b}\")"
   ]
  },
  {
   "cell_type": "markdown",
   "id": "604b9575-5825-4a96-9b52-626408122e2c",
   "metadata": {},
   "source": [
    "<b>3. Write a python program to input the temperature in Fahrenheit and change it to Celsius.</b>"
   ]
  },
  {
   "cell_type": "code",
   "execution_count": 3,
   "id": "0c18fd02-50ce-41a6-a9aa-a3d2335097d8",
   "metadata": {},
   "outputs": [
    {
     "name": "stdout",
     "output_type": "stream",
     "text": [
      "Enter temperature in Fahreinheit:  100\n"
     ]
    },
    {
     "name": "stdout",
     "output_type": "stream",
     "text": [
      "Temperature = 37.77777777777778 C\n"
     ]
    }
   ],
   "source": [
    "# Akash Duttachowdhury | 21052386\n",
    "f = float(input(\"Enter temperature in Fahreinheit: \"))\n",
    "c = (f-32)*5/9\n",
    "print(f\"Temperature = {c} C\")"
   ]
  },
  {
   "cell_type": "markdown",
   "id": "6cc038e7-e4d8-464e-b6d3-e61749f87289",
   "metadata": {},
   "source": [
    "<b>4. Write a python program to input the basic salary of a person and compute its TA (20% of\n",
    "basic), DA (120% of basic), HRA (30% of basic), Gross (basic + ta + da + hra).</b>"
   ]
  },
  {
   "cell_type": "code",
   "execution_count": 4,
   "id": "ca66bc8b-ca16-4641-b975-5c043143d7ae",
   "metadata": {},
   "outputs": [
    {
     "name": "stdout",
     "output_type": "stream",
     "text": [
      "Enter the basic salary:  10000\n"
     ]
    },
    {
     "name": "stdout",
     "output_type": "stream",
     "text": [
      "TA: Rs. 2000.0\n",
      "DA: Rs. 12000.0\n",
      "HRA: Rs. 3000.0\n",
      "Gross: Rs. 27000.0\n"
     ]
    }
   ],
   "source": [
    "# Akash Duttachowdhury | 21052386\n",
    "basic = int(input(\"Enter the basic salary: \"))\n",
    "print(f\"TA: Rs. {0.2*basic}\")\n",
    "print(f\"DA: Rs. {1.2*basic}\")\n",
    "print(f\"HRA: Rs. {0.3*basic}\")\n",
    "print(f\"Gross: Rs. {2.7*basic}\")"
   ]
  },
  {
   "cell_type": "markdown",
   "id": "766431fb-1000-4b69-8bee-df829d21c253",
   "metadata": {},
   "source": [
    "<b>5. Write a python program to swap three variables."
   ]
  },
  {
   "cell_type": "code",
   "execution_count": 5,
   "id": "d78cc57f-c381-40e5-95dc-010be6e82837",
   "metadata": {},
   "outputs": [
    {
     "name": "stdout",
     "output_type": "stream",
     "text": [
      "Enter three no.s\n"
     ]
    },
    {
     "name": "stdout",
     "output_type": "stream",
     "text": [
      " 3\n",
      " 4\n",
      " 5\n"
     ]
    },
    {
     "name": "stdout",
     "output_type": "stream",
     "text": [
      "After swapping\n",
      "a = 4, b = 5, c = 3\n"
     ]
    }
   ],
   "source": [
    "# Akash Duttachowdhury | 21052386\n",
    "print(\"Enter three no.s\")\n",
    "a = int(input())\n",
    "b = int(input())\n",
    "c = int(input())\n",
    "temp = a\n",
    "a = b\n",
    "b = c\n",
    "c = temp\n",
    "print(f\"After swapping\\na = {a}, b = {b}, c = {c}\")"
   ]
  },
  {
   "cell_type": "markdown",
   "id": "3c827206-c681-4be7-ad77-d1b00f7b3a81",
   "metadata": {},
   "source": [
    "<b>6. Write a python program to evaluate the expression\n",
    "4x^4 + 3y^3 -9z + 6"
   ]
  },
  {
   "cell_type": "code",
   "execution_count": 6,
   "id": "3409c2e9-fb86-48ff-aa75-408978798dee",
   "metadata": {},
   "outputs": [
    {
     "name": "stdout",
     "output_type": "stream",
     "text": [
      "Enter x:  8\n",
      "Enter y:  4\n",
      "Enter z:  2\n"
     ]
    },
    {
     "name": "stdout",
     "output_type": "stream",
     "text": [
      "Evaluated expression = 16564\n"
     ]
    }
   ],
   "source": [
    "# Akash Duttachowdhury | 21052386\n",
    "x = int(input(\"Enter x: \"))\n",
    "y = int(input(\"Enter y: \"))\n",
    "z = int(input(\"Enter z: \"))\n",
    "print(f\"Evaluated expression = {4*x**4 + 3*y**3 - 9*z + 6}\")"
   ]
  },
  {
   "cell_type": "markdown",
   "id": "2a28b7e5-e140-4c28-bab2-9eb9f0ddae95",
   "metadata": {},
   "source": [
    "<b>7. Write a python program to take a input in uppercase and change it to lower case"
   ]
  },
  {
   "cell_type": "code",
   "execution_count": 7,
   "id": "c2daea40-68cb-4bdf-a5ab-712f7390ef7d",
   "metadata": {},
   "outputs": [
    {
     "name": "stdout",
     "output_type": "stream",
     "text": [
      "Enter a string:  UPPER CASE STRING\n"
     ]
    },
    {
     "name": "stdout",
     "output_type": "stream",
     "text": [
      "upper case string\n"
     ]
    }
   ],
   "source": [
    "# Akash Duttachowdhury | 21052386\n",
    "l = str(input(\"Enter a string: \"))\n",
    "print(l.lower())"
   ]
  },
  {
   "cell_type": "markdown",
   "id": "f685e571-3730-4b19-9dad-3b5fb9f11d2d",
   "metadata": {},
   "source": [
    "<b>8. Write a python program to input the radius of a circle and print its area and perimeter."
   ]
  },
  {
   "cell_type": "code",
   "execution_count": 8,
   "id": "c17b733e-04e3-47cc-b394-1507ea0f5e0f",
   "metadata": {},
   "outputs": [
    {
     "name": "stdout",
     "output_type": "stream",
     "text": [
      "Enter radius of circle:  18\n"
     ]
    },
    {
     "name": "stdout",
     "output_type": "stream",
     "text": [
      "Area of circle is 1017.8760197630929\n"
     ]
    }
   ],
   "source": [
    "# Akash Duttachowdhury | 21052386\n",
    "from math import pi\n",
    "r = float(input(\"Enter radius of circle: \"))\n",
    "print(f\"Area of circle is {pi*r**2}\")"
   ]
  },
  {
   "cell_type": "markdown",
   "id": "06f7e925-026a-4cbb-aede-58f56d33384f",
   "metadata": {},
   "source": [
    "<b>9. Write a python program to input marks in 5 subjects of a student and print its average mark."
   ]
  },
  {
   "cell_type": "code",
   "execution_count": 9,
   "id": "74052295-e844-420f-a7a0-e23d281373ed",
   "metadata": {},
   "outputs": [
    {
     "name": "stdout",
     "output_type": "stream",
     "text": [
      "Enter the marks for 5 students\n"
     ]
    },
    {
     "name": "stdout",
     "output_type": "stream",
     "text": [
      " 88\n",
      " 99\n",
      " 78\n",
      " 89\n",
      " 97\n"
     ]
    },
    {
     "name": "stdout",
     "output_type": "stream",
     "text": [
      "Avg marks = 90.2\n"
     ]
    }
   ],
   "source": [
    "# Akash Duttachowdhury | 21052386\n",
    "print(\"Enter the marks for 5 students\")\n",
    "m1 = int(input())\n",
    "m2 = int(input())\n",
    "m3 = int(input())\n",
    "m4 = int(input())\n",
    "m5 = int(input())\n",
    "print(f\"Avg marks = {(m1+m2+m3+m4+m5)/5}\")"
   ]
  },
  {
   "cell_type": "markdown",
   "id": "33d135ea-ff88-476d-b3be-8f70ef58a096",
   "metadata": {},
   "source": [
    "<b>10. Write a python program to input a number and print its square, cube and fourth power."
   ]
  },
  {
   "cell_type": "code",
   "execution_count": 10,
   "id": "6860592a-f88d-41f8-b256-7c6d2e7e86d8",
   "metadata": {},
   "outputs": [
    {
     "name": "stdout",
     "output_type": "stream",
     "text": [
      "Enter a number:  3\n"
     ]
    },
    {
     "name": "stdout",
     "output_type": "stream",
     "text": [
      "Square = 9\n",
      "Cube = 27\n",
      "Fourth = 81\n"
     ]
    }
   ],
   "source": [
    "# Akash Duttachowdhury | 21052386\n",
    "num = int(input(\"Enter a number: \"))\n",
    "print(f\"Square = {num**2}\\nCube = {num**3}\\nFourth = {num**4}\")"
   ]
  },
  {
   "cell_type": "markdown",
   "id": "11c03fe8-e291-4e81-8044-0cc543c40485",
   "metadata": {},
   "source": [
    "<b>11. Write a python program to input a the sides of a triangle and print its area."
   ]
  },
  {
   "cell_type": "code",
   "execution_count": 11,
   "id": "b42dcdf9-37a3-419e-8abe-4df1a10dd828",
   "metadata": {},
   "outputs": [
    {
     "name": "stdout",
     "output_type": "stream",
     "text": [
      "Enter the sides of a triangle\n"
     ]
    },
    {
     "name": "stdout",
     "output_type": "stream",
     "text": [
      "a =  3\n",
      "b =  4\n",
      "c =  5\n"
     ]
    },
    {
     "name": "stdout",
     "output_type": "stream",
     "text": [
      "Area of triangle = 6.0\n"
     ]
    }
   ],
   "source": [
    "# Akash Duttachowdhury | 21052386\n",
    "import math as m\n",
    "print(\"Enter the sides of a triangle\")\n",
    "a = int(input(\"a = \"))\n",
    "b = int(input(\"b = \"))\n",
    "c = int(input(\"c = \"))\n",
    "s = (a+b+c)/2\n",
    "print(f\"Area of triangle = {m.sqrt(s*(s-a)*(s-b)*(s-c))}\")"
   ]
  },
  {
   "cell_type": "markdown",
   "id": "3ac7843d-a551-4453-a1c4-75041a25f163",
   "metadata": {},
   "source": [
    "<b>12. Write a python program to compute SI and CI."
   ]
  },
  {
   "cell_type": "code",
   "execution_count": 12,
   "id": "a928d709-2fa1-4cc6-a3aa-beeefe74d26c",
   "metadata": {},
   "outputs": [
    {
     "name": "stdout",
     "output_type": "stream",
     "text": [
      "Enter principal:  1000\n",
      "Enter rate(%):  3\n",
      "Enter time(in years):  12\n",
      "Enter no. of times interest is compounded per year:  1\n"
     ]
    },
    {
     "name": "stdout",
     "output_type": "stream",
     "text": [
      "Simple Interest = Rs. 36000.0\n",
      "Compound Interest = Rs. 16777216000.0\n"
     ]
    }
   ],
   "source": [
    "# Akash Duttachowdhury | 21052386\n",
    "p = float(input(\"Enter principal: \"))\n",
    "r = float(input(\"Enter rate(%): \"))\n",
    "t = float(input(\"Enter time(in years): \"))\n",
    "n = int(input(\"Enter no. of times interest is compounded per year: \"))\n",
    "print(f\"Simple Interest = Rs. {p*r*t}\")\n",
    "print(f\"Compound Interest = Rs. {p*((1+r/n)**(n*t))}\")"
   ]
  },
  {
   "cell_type": "markdown",
   "id": "45d69532-444d-4fc8-905e-6e8a54ea1d5c",
   "metadata": {},
   "source": [
    "<b>13. Ask the user to enter a number x. Use the sep optional argument to print out x, 2x, 3x, 4x,\n",
    "and 5x, each separated by three dashes, like below.\n",
    "Enter a number: 7\n",
    "7---14---21---28---35"
   ]
  },
  {
   "cell_type": "code",
   "execution_count": 13,
   "id": "350e3423-bce6-42f1-8efd-01a23d2beee9",
   "metadata": {},
   "outputs": [
    {
     "name": "stdout",
     "output_type": "stream",
     "text": [
      "Enter number:  7\n"
     ]
    },
    {
     "name": "stdout",
     "output_type": "stream",
     "text": [
      "7---14---21---28---35\n"
     ]
    }
   ],
   "source": [
    "# Akash Duttachowdhury | 21052386\n",
    "n = int(input(\"Enter number: \"))\n",
    "print(f\"{n}\", f\"{2*n}\", f\"{3*n}\", f\"{4*n}\", f\"{5*n}\", sep='---')"
   ]
  }
 ],
 "metadata": {
  "kernelspec": {
   "display_name": "Python 3 (ipykernel)",
   "language": "python",
   "name": "python3"
  },
  "language_info": {
   "codemirror_mode": {
    "name": "ipython",
    "version": 3
   },
   "file_extension": ".py",
   "mimetype": "text/x-python",
   "name": "python",
   "nbconvert_exporter": "python",
   "pygments_lexer": "ipython3",
   "version": "3.12.0"
  }
 },
 "nbformat": 4,
 "nbformat_minor": 5
}
