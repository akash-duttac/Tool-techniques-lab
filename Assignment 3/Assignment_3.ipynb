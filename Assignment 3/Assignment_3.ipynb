{
 "cells": [
  {
   "cell_type": "markdown",
   "metadata": {
    "id": "bO59LMDXFN1J"
   },
   "source": [
    "# Assignment 3: Branching and Looping\n",
    "### Akash Duttachowdhury\n",
    "### 21052386\n",
    "<b>1. Guess a number game</b>\n",
    "\n",
    "The computer picks a random number from 1 to 5, the player tries to guess. The player may have the flexibility to enter the number in an expression format."
   ]
  },
  {
   "cell_type": "code",
   "execution_count": 10,
   "metadata": {
    "colab": {
     "base_uri": "https://localhost:8080/"
    },
    "id": "yZXeQfurFNAM",
    "outputId": "e136b093-8a2b-4c6e-f0d2-f36e44c30110"
   },
   "outputs": [
    {
     "name": "stdout",
     "output_type": "stream",
     "text": [
      "Wrong! The number is 2\n"
     ]
    }
   ],
   "source": [
    "# Akash Duttachowdhury | 21052386\n",
    "import random\n",
    "random_number = random.randint(1,5)\n",
    "guess = int(input(\"Enter your guess: \"))\n",
    "\n",
    "if guess == random_number:\n",
    "  print(\"Correct!\")\n",
    "else:\n",
    "  print(\"Wrong! The number is\", random_number)"
   ]
  },
  {
   "cell_type": "markdown",
   "metadata": {
    "id": "020Iya83Igkx"
   },
   "source": [
    "<b>2. Kids Multiplication Table</b>\n",
    "\n",
    "Write a multiplication game program for kids. The program should give the player ten randomly generated multiplication questions to do. After each, the program should tell them whether they got it right or wrong and what the correct answer is."
   ]
  },
  {
   "cell_type": "code",
   "execution_count": 11,
   "metadata": {
    "colab": {
     "base_uri": "https://localhost:8080/",
     "height": 453
    },
    "id": "-MfzbxFvISja",
    "outputId": "7884b31d-9e2f-4c74-80ab-c417615f11a8"
   },
   "outputs": [
    {
     "name": "stdout",
     "output_type": "stream",
     "text": [
      "Right!\n",
      "Wrong. The answer is 40\n",
      "Right!\n",
      "Right!\n",
      "Right!\n",
      "Right!\n",
      "Right!\n",
      "Right!\n",
      "Right!\n",
      "Wrong. The answer is 6\n"
     ]
    }
   ],
   "source": [
    "# Akash Duttachowdhury | 21052386\n",
    "import random\n",
    "for i in range(10):\n",
    "    a = random.randint(1,10)\n",
    "    b = random.randint(1,10)\n",
    "    ans = int(input(f\"Question {i+1}: {a} x {b} = \"))\n",
    "    if ans == a*b:\n",
    "        print(\"Right!\")\n",
    "    else:\n",
    "        print(\"Wrong. The answer is\", a*b)"
   ]
  },
  {
   "cell_type": "markdown",
   "metadata": {
    "id": "1j0Ao5z8SZf4"
   },
   "source": [
    "<b>3. Check a list contains even number or not."
   ]
  },
  {
   "cell_type": "code",
   "execution_count": 12,
   "metadata": {
    "colab": {
     "base_uri": "https://localhost:8080/"
    },
    "id": "y3sOckiaSkTQ",
    "outputId": "364957cd-871d-4640-ee37-d37cbf13eb82"
   },
   "outputs": [
    {
     "name": "stdout",
     "output_type": "stream",
     "text": [
      "The list doesn't contain even no.s\n"
     ]
    }
   ],
   "source": [
    "# Akash Duttachowdhury | 21052386\n",
    "numbers = [11,33,55,39,55,75,37,21,23,41,13]\n",
    "flag = 0\n",
    "for number in numbers:\n",
    "  if number%2==0:\n",
    "    flag = 1\n",
    "    break\n",
    "if flag == 1:\n",
    "  print(\"The list contains even no.s\")\n",
    "else:\n",
    "  print(\"The list doesn't contain even no.s\")"
   ]
  },
  {
   "cell_type": "markdown",
   "metadata": {
    "id": "CtqAAgDKTg0t"
   },
   "source": [
    "<b>4. Read N and generate the Fibonacci sequence upto N."
   ]
  },
  {
   "cell_type": "code",
   "execution_count": 13,
   "metadata": {
    "colab": {
     "base_uri": "https://localhost:8080/"
    },
    "id": "4zL56QomTph9",
    "outputId": "70b7925d-d273-4f1f-d3cd-abbf29a466bc"
   },
   "outputs": [
    {
     "name": "stdout",
     "output_type": "stream",
     "text": [
      "Fibonacci Sequence upto 10 no.s\n"
     ]
    },
    {
     "data": {
      "text/plain": [
       "[0, 1, 1, 2, 3, 5, 8, 13, 21, 34]"
      ]
     },
     "execution_count": 13,
     "metadata": {},
     "output_type": "execute_result"
    }
   ],
   "source": [
    "# Akash Duttachowdhury | 21052386\n",
    "def fibonacci(n):\n",
    "  fib_sequence = [0, 1]\n",
    "  while len(fib_sequence) < n:\n",
    "      fib_sequence.append(fib_sequence[-1] + fib_sequence[-2])\n",
    "  return fib_sequence\n",
    "\n",
    "\n",
    "n = int(input(\"Enter n: \"))\n",
    "print(f\"Fibonacci Sequence upto {n} no.s\")\n",
    "fibonacci(n)"
   ]
  },
  {
   "cell_type": "markdown",
   "metadata": {},
   "source": [
    "<b>5. Use a for loop to print a box like the one below. Allow the user to specify how wide and how\n",
    "high the box should be. [Hint: print('*'*10) prints ten asterisks.]\n",
    "    <br><br><img src=\"q5.png\">"
   ]
  },
  {
   "cell_type": "code",
   "execution_count": 14,
   "metadata": {},
   "outputs": [
    {
     "name": "stdout",
     "output_type": "stream",
     "text": [
      "********\n",
      "********\n",
      "********\n",
      "********\n",
      "********\n"
     ]
    }
   ],
   "source": [
    "# Akash Duttachowdhury | 21052386\n",
    "height = int(input(\"How high? \"))\n",
    "width = int(input(\"How wide? \"))\n",
    "for i in range(height):\n",
    "    print(\"*\"*width)"
   ]
  },
  {
   "cell_type": "markdown",
   "metadata": {},
   "source": [
    "<b>6. Use loop to print a box like the one below. Allow the user to specify how wide and how high\n",
    "the box should be.<br><br>\n",
    "<img src=\"q6.png\">"
   ]
  },
  {
   "cell_type": "code",
   "execution_count": 15,
   "metadata": {},
   "outputs": [
    {
     "name": "stdout",
     "output_type": "stream",
     "text": [
      "*****\n",
      "*   *\n",
      "*   *\n",
      "*   *\n",
      "*****\n"
     ]
    }
   ],
   "source": [
    "# Akash Duttachowdhury | 21052386\n",
    "num = int (input (\"enter the num for rows and cols: \"))\n",
    "for i in range (num) :\n",
    "    for j in range (num) :\n",
    "        if i==0 or i==num-1 or j==0 or j==num-1:\n",
    "            print (\"*\", end=\"\") \n",
    "        else:\n",
    "            print (\" \", end=\"\")\n",
    "    print ()"
   ]
  },
  {
   "cell_type": "markdown",
   "metadata": {},
   "source": [
    "<b>7. Use for loops to print a diamond like the one below. Allow the user to specify how high the diamond should be."
   ]
  },
  {
   "cell_type": "code",
   "execution_count": 16,
   "metadata": {},
   "outputs": [
    {
     "name": "stdout",
     "output_type": "stream",
     "text": [
      "        * \n",
      "       * * \n",
      "      * * * \n",
      "     * * * * \n",
      "    * * * * * \n",
      "   * * * * * * \n",
      "    * * * * * \n",
      "     * * * * \n",
      "      * * * \n",
      "       * * \n",
      "        * \n"
     ]
    }
   ],
   "source": [
    "# Akash Duttachowdhury | 21052386\n",
    "rows = int(input(\"Enter the no. of rows: \"))\n",
    "k = 2*rows - 2\n",
    "for i in range(0, rows):\n",
    "    for j in range(0, k):\n",
    "        print(end=\" \")\n",
    "    k -= 1\n",
    "    for j in range(0, i+1):\n",
    "        print(\"* \", end=\"\")\n",
    "    print(\"\")\n",
    "k = rows-2\n",
    "for i in range(rows, -1, -1):\n",
    "    for j in range(k, 0, -1):\n",
    "        print(end=\" \")\n",
    "    k += 1\n",
    "    for j in range(0, i+1):\n",
    "        print(\"* \", end=\"\")\n",
    "    print(\"\")"
   ]
  },
  {
   "cell_type": "markdown",
   "metadata": {},
   "source": [
    "<b>8. Write a program that lets the user play Rock-Paper-Scissors against the computer. There should be five rounds, and after those five rounds, your program should print out who won and lost or that there is a tie."
   ]
  },
  {
   "cell_type": "code",
   "execution_count": 17,
   "metadata": {},
   "outputs": [
    {
     "name": "stdout",
     "output_type": "stream",
     "text": [
      "\n",
      "Round 1\n",
      "Choose: Rock, Paper, or Scissors\n",
      "You chose: rock\n",
      "Computer chose: rock\n",
      "It's a tie!\n",
      "\n",
      "Round 2\n",
      "Choose: Rock, Paper, or Scissors\n",
      "You chose: paper\n",
      "Computer chose: rock\n",
      "You win!\n",
      "\n",
      "Round 3\n",
      "Choose: Rock, Paper, or Scissors\n",
      "You chose: scissors\n",
      "Computer chose: scissors\n",
      "It's a tie!\n",
      "\n",
      "Round 4\n",
      "Choose: Rock, Paper, or Scissors\n",
      "You chose: rock\n",
      "Computer chose: scissors\n",
      "You win!\n",
      "\n",
      "Round 5\n",
      "Choose: Rock, Paper, or Scissors\n",
      "You chose: paper\n",
      "Computer chose: scissors\n",
      "Computer wins!\n",
      "\n",
      "Game Over!\n",
      "You won 2 rounds.\n",
      "Computer won 1 rounds.\n",
      "Congratulations! You are the overall winner.\n"
     ]
    }
   ],
   "source": [
    "# Akash Duttachowdhury | 21052386\n",
    "import random\n",
    "\n",
    "def get_user_choice():\n",
    "    print(\"Choose: Rock, Paper, or Scissors\")\n",
    "    user_choice = input().lower()\n",
    "    while user_choice not in ['rock', 'paper', 'scissors']:\n",
    "        print(\"Invalid choice. Please choose: Rock, Paper, or Scissors\")\n",
    "        user_choice = input.lower()\n",
    "    return user_choice\n",
    "\n",
    "def get_computer_choice():\n",
    "    return random.choice(['rock', 'paper', 'scissors'])\n",
    "\n",
    "def determine_winner(user_choice, computer_choice):\n",
    "    if user_choice == computer_choice:\n",
    "        return \"It's a tie!\"\n",
    "    elif (\n",
    "        (user_choice == 'rock' and computer_choice == 'scissors') or\n",
    "        (user_choice == 'paper' and computer_choice == 'rock') or\n",
    "        (user_choice == 'scissors' and computer_choice == 'paper')\n",
    "    ):\n",
    "        return \"You win!\"\n",
    "    else:\n",
    "        return \"Computer wins!\"\n",
    "    \n",
    "def main():\n",
    "    user_wins = 0\n",
    "    computer_wins = 0\n",
    "    for round_num in range(1,6):\n",
    "        print(f\"\\nRound {round_num}\")\n",
    "        user_choice = get_user_choice()\n",
    "        computer_choice = get_computer_choice()\n",
    "\n",
    "        print(f\"You chose: {user_choice}\")\n",
    "        print(f\"Computer chose: {computer_choice}\")\n",
    "        \n",
    "        result = determine_winner(user_choice, computer_choice)\n",
    "        print(result)\n",
    "\n",
    "        if result==\"You win!\":\n",
    "            user_wins += 1\n",
    "        elif result==\"Computer wins!\":\n",
    "            computer_wins += 1\n",
    "\n",
    "    print(\"\\nGame Over!\")\n",
    "    print(f\"You won {user_wins} rounds.\")\n",
    "    print(f\"Computer won {computer_wins} rounds.\")\n",
    "\n",
    "    if user_wins > computer_wins:\n",
    "        print(\"Congratulations! You are the overall winner.\")\n",
    "    elif user_wins < computer_wins:\n",
    "        print(\"Sorry, the computer is the overall winner.\")\n",
    "    else:\n",
    "        print(\"It's a tie!\")\n",
    "\n",
    "main()"
   ]
  },
  {
   "cell_type": "markdown",
   "metadata": {},
   "source": [
    "<b>9. Playing with Magic Words</b><br>\n",
    "Here a word ‘S’ of length ‘n’ is said to be magic word if it satisfies the following conditions:<br>\n",
    "All letters of S are lowercase letters of the English alphabets.<br>\n",
    "Si, the character in the ith position, is lexicographically smaller than Sn-1-i for all even i from 0 to n/2<br>\n",
    "Si is lexicographically greater than Sn-1-i for all odd i from 0 to n/2<br>\n",
    "For example, the word “difference” is a magic word, while “similar” is not.<br>\n",
    "Given a word, write python code to check whether the word is magic or not."
   ]
  },
  {
   "cell_type": "code",
   "execution_count": 18,
   "metadata": {},
   "outputs": [
    {
     "name": "stdout",
     "output_type": "stream",
     "text": [
      "The word 'scissors is not a magic word.\n"
     ]
    }
   ],
   "source": [
    "# Akash Duttachowdhury | 21052386\n",
    "def is_magic_word(word):\n",
    "    n = len(word)\n",
    "    if not all(char.islower() for char in word):\n",
    "        return False\n",
    "    for i in range(n//2):\n",
    "        if i%2 == 0 and not word[i]<word[n-1-i]:\n",
    "            return False\n",
    "        elif i%2 != 0 and not word[i]>word[n-1-i]:\n",
    "            return False\n",
    "    return True\n",
    "\n",
    "input_word = input(\"Enter a word: \")\n",
    "if is_magic_word(input_word):\n",
    "    print(f\"The word '{input_word}' is a magic word.\")\n",
    "else:\n",
    "    print(f\"The word '{input_word}' is not a magic word.\")"
   ]
  }
 ],
 "metadata": {
  "colab": {
   "provenance": []
  },
  "kernelspec": {
   "display_name": "Python 3 (ipykernel)",
   "language": "python",
   "name": "python3"
  },
  "language_info": {
   "codemirror_mode": {
    "name": "ipython",
    "version": 3
   },
   "file_extension": ".py",
   "mimetype": "text/x-python",
   "name": "python",
   "nbconvert_exporter": "python",
   "pygments_lexer": "ipython3",
   "version": "3.9.6"
  }
 },
 "nbformat": 4,
 "nbformat_minor": 4
}
